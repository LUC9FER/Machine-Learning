{
 "cells": [
  {
   "cell_type": "markdown",
   "id": "e54dd10d",
   "metadata": {},
   "source": [
    "## Installing Packages"
   ]
  },
  {
   "cell_type": "code",
   "execution_count": 20,
   "id": "556a127a",
   "metadata": {},
   "outputs": [
    {
     "name": "stdout",
     "output_type": "stream",
     "text": [
      "Requirement already satisfied: xgboost in c:\\users\\avi\\anaconda3\\lib\\site-packages (1.5.2)\n",
      "Requirement already satisfied: numpy in c:\\users\\avi\\anaconda3\\lib\\site-packages (from xgboost) (1.20.3)\n",
      "Requirement already satisfied: scipy in c:\\users\\avi\\anaconda3\\lib\\site-packages (from xgboost) (1.7.1)\n"
     ]
    }
   ],
   "source": [
    "!pip install xgboost"
   ]
  },
  {
   "cell_type": "code",
   "execution_count": 21,
   "id": "befe567c",
   "metadata": {},
   "outputs": [
    {
     "name": "stdout",
     "output_type": "stream",
     "text": [
      "Requirement already satisfied: imbalanced-learn in c:\\users\\avi\\anaconda3\\lib\\site-packages (0.9.0)\n",
      "Requirement already satisfied: numpy>=1.14.6 in c:\\users\\avi\\anaconda3\\lib\\site-packages (from imbalanced-learn) (1.20.3)\n",
      "Requirement already satisfied: scikit-learn>=1.0.1 in c:\\users\\avi\\anaconda3\\lib\\site-packages (from imbalanced-learn) (1.0.2)\n",
      "Requirement already satisfied: joblib>=0.11 in c:\\users\\avi\\anaconda3\\lib\\site-packages (from imbalanced-learn) (1.1.0)\n",
      "Requirement already satisfied: scipy>=1.1.0 in c:\\users\\avi\\anaconda3\\lib\\site-packages (from imbalanced-learn) (1.7.1)\n",
      "Requirement already satisfied: threadpoolctl>=2.0.0 in c:\\users\\avi\\anaconda3\\lib\\site-packages (from imbalanced-learn) (2.2.0)\n"
     ]
    }
   ],
   "source": [
    "!pip install imbalanced-learn"
   ]
  },
  {
   "cell_type": "markdown",
   "id": "b769dff7",
   "metadata": {},
   "source": [
    "## Importing Libraries"
   ]
  },
  {
   "cell_type": "code",
   "execution_count": 22,
   "id": "7b90c23f",
   "metadata": {},
   "outputs": [],
   "source": [
    "import numpy as np # Library For Arrays\n",
    "\n",
    "import pandas as pd # Library For Datasets\n",
    "\n",
    "\n",
    "\n",
    "# Library For Graphs\n",
    "\n",
    "import matplotlib.pyplot as plt \n",
    "\n",
    "import seaborn as sns\n",
    "\n",
    "\n",
    "\n",
    "import imblearn # Library For Handling Imbalanced Class\n",
    "\n",
    "\n",
    "\n",
    "from sklearn.model_selection import train_test_split # Importing 'train_test_split' Class For Training & Test Set\n",
    "\n",
    "from imblearn.over_sampling import SMOTE, RandomOverSampler # Importing SMOTE Class To Handle Imbalanced Dataset\n",
    "\n",
    "from collections import Counter # For Counting The Classification Distribution\n",
    "\n",
    "from sklearn.decomposition import PCA\n",
    "\n",
    "\n",
    "\n",
    "from sklearn.neighbors import KNeighborsClassifier # For KNN Model\n",
    "\n",
    "from sklearn.ensemble import RandomForestClassifier # For Random Forest Model\n",
    "\n",
    "from sklearn.svm import SVC # For SVM Model \n",
    "\n",
    "\n",
    "\n",
    "\n",
    "\n",
    "from sklearn.metrics import confusion_matrix, accuracy_score, f1_score # For Calculating Model Performance\n",
    "\n",
    "from sklearn.model_selection import GridSearchCV # FOr Finding Best Parameter Setting For A Model"
   ]
  },
  {
   "cell_type": "markdown",
   "id": "89d7e6be",
   "metadata": {},
   "source": [
    "## Importing Dataset"
   ]
  },
  {
   "cell_type": "code",
   "execution_count": 23,
   "id": "814c9c44",
   "metadata": {},
   "outputs": [
    {
     "data": {
      "text/html": [
       "<div>\n",
       "<style scoped>\n",
       "    .dataframe tbody tr th:only-of-type {\n",
       "        vertical-align: middle;\n",
       "    }\n",
       "\n",
       "    .dataframe tbody tr th {\n",
       "        vertical-align: top;\n",
       "    }\n",
       "\n",
       "    .dataframe thead th {\n",
       "        text-align: right;\n",
       "    }\n",
       "</style>\n",
       "<table border=\"1\" class=\"dataframe\">\n",
       "  <thead>\n",
       "    <tr style=\"text-align: right;\">\n",
       "      <th></th>\n",
       "      <th>pixel0000</th>\n",
       "      <th>pixel0001</th>\n",
       "      <th>pixel0002</th>\n",
       "      <th>pixel0003</th>\n",
       "      <th>pixel0004</th>\n",
       "      <th>pixel0005</th>\n",
       "      <th>pixel0006</th>\n",
       "      <th>pixel0007</th>\n",
       "      <th>pixel0008</th>\n",
       "      <th>pixel0009</th>\n",
       "      <th>...</th>\n",
       "      <th>pixel0183</th>\n",
       "      <th>pixel0184</th>\n",
       "      <th>pixel0185</th>\n",
       "      <th>pixel0186</th>\n",
       "      <th>pixel0187</th>\n",
       "      <th>pixel0188</th>\n",
       "      <th>pixel0189</th>\n",
       "      <th>pixel0190</th>\n",
       "      <th>pixel0191</th>\n",
       "      <th>label</th>\n",
       "    </tr>\n",
       "  </thead>\n",
       "  <tbody>\n",
       "    <tr>\n",
       "      <th>0</th>\n",
       "      <td>199</td>\n",
       "      <td>156</td>\n",
       "      <td>188</td>\n",
       "      <td>210</td>\n",
       "      <td>165</td>\n",
       "      <td>198</td>\n",
       "      <td>216</td>\n",
       "      <td>176</td>\n",
       "      <td>203</td>\n",
       "      <td>215</td>\n",
       "      <td>...</td>\n",
       "      <td>214</td>\n",
       "      <td>167</td>\n",
       "      <td>191</td>\n",
       "      <td>199</td>\n",
       "      <td>157</td>\n",
       "      <td>175</td>\n",
       "      <td>184</td>\n",
       "      <td>143</td>\n",
       "      <td>167</td>\n",
       "      <td>2</td>\n",
       "    </tr>\n",
       "    <tr>\n",
       "      <th>1</th>\n",
       "      <td>115</td>\n",
       "      <td>87</td>\n",
       "      <td>115</td>\n",
       "      <td>180</td>\n",
       "      <td>133</td>\n",
       "      <td>158</td>\n",
       "      <td>200</td>\n",
       "      <td>153</td>\n",
       "      <td>187</td>\n",
       "      <td>215</td>\n",
       "      <td>...</td>\n",
       "      <td>207</td>\n",
       "      <td>167</td>\n",
       "      <td>188</td>\n",
       "      <td>177</td>\n",
       "      <td>128</td>\n",
       "      <td>138</td>\n",
       "      <td>74</td>\n",
       "      <td>51</td>\n",
       "      <td>60</td>\n",
       "      <td>2</td>\n",
       "    </tr>\n",
       "    <tr>\n",
       "      <th>2</th>\n",
       "      <td>203</td>\n",
       "      <td>146</td>\n",
       "      <td>164</td>\n",
       "      <td>209</td>\n",
       "      <td>144</td>\n",
       "      <td>153</td>\n",
       "      <td>217</td>\n",
       "      <td>160</td>\n",
       "      <td>181</td>\n",
       "      <td>215</td>\n",
       "      <td>...</td>\n",
       "      <td>211</td>\n",
       "      <td>160</td>\n",
       "      <td>175</td>\n",
       "      <td>199</td>\n",
       "      <td>152</td>\n",
       "      <td>172</td>\n",
       "      <td>177</td>\n",
       "      <td>138</td>\n",
       "      <td>158</td>\n",
       "      <td>2</td>\n",
       "    </tr>\n",
       "    <tr>\n",
       "      <th>3</th>\n",
       "      <td>135</td>\n",
       "      <td>96</td>\n",
       "      <td>110</td>\n",
       "      <td>198</td>\n",
       "      <td>141</td>\n",
       "      <td>156</td>\n",
       "      <td>208</td>\n",
       "      <td>148</td>\n",
       "      <td>158</td>\n",
       "      <td>210</td>\n",
       "      <td>...</td>\n",
       "      <td>179</td>\n",
       "      <td>141</td>\n",
       "      <td>157</td>\n",
       "      <td>153</td>\n",
       "      <td>122</td>\n",
       "      <td>138</td>\n",
       "      <td>58</td>\n",
       "      <td>39</td>\n",
       "      <td>46</td>\n",
       "      <td>2</td>\n",
       "    </tr>\n",
       "    <tr>\n",
       "      <th>4</th>\n",
       "      <td>204</td>\n",
       "      <td>156</td>\n",
       "      <td>187</td>\n",
       "      <td>232</td>\n",
       "      <td>185</td>\n",
       "      <td>216</td>\n",
       "      <td>236</td>\n",
       "      <td>196</td>\n",
       "      <td>220</td>\n",
       "      <td>217</td>\n",
       "      <td>...</td>\n",
       "      <td>236</td>\n",
       "      <td>189</td>\n",
       "      <td>213</td>\n",
       "      <td>233</td>\n",
       "      <td>182</td>\n",
       "      <td>209</td>\n",
       "      <td>207</td>\n",
       "      <td>175</td>\n",
       "      <td>188</td>\n",
       "      <td>2</td>\n",
       "    </tr>\n",
       "    <tr>\n",
       "      <th>...</th>\n",
       "      <td>...</td>\n",
       "      <td>...</td>\n",
       "      <td>...</td>\n",
       "      <td>...</td>\n",
       "      <td>...</td>\n",
       "      <td>...</td>\n",
       "      <td>...</td>\n",
       "      <td>...</td>\n",
       "      <td>...</td>\n",
       "      <td>...</td>\n",
       "      <td>...</td>\n",
       "      <td>...</td>\n",
       "      <td>...</td>\n",
       "      <td>...</td>\n",
       "      <td>...</td>\n",
       "      <td>...</td>\n",
       "      <td>...</td>\n",
       "      <td>...</td>\n",
       "      <td>...</td>\n",
       "      <td>...</td>\n",
       "      <td>...</td>\n",
       "    </tr>\n",
       "    <tr>\n",
       "      <th>10010</th>\n",
       "      <td>205</td>\n",
       "      <td>186</td>\n",
       "      <td>202</td>\n",
       "      <td>208</td>\n",
       "      <td>184</td>\n",
       "      <td>194</td>\n",
       "      <td>211</td>\n",
       "      <td>183</td>\n",
       "      <td>188</td>\n",
       "      <td>221</td>\n",
       "      <td>...</td>\n",
       "      <td>229</td>\n",
       "      <td>205</td>\n",
       "      <td>211</td>\n",
       "      <td>218</td>\n",
       "      <td>199</td>\n",
       "      <td>202</td>\n",
       "      <td>207</td>\n",
       "      <td>185</td>\n",
       "      <td>186</td>\n",
       "      <td>0</td>\n",
       "    </tr>\n",
       "    <tr>\n",
       "      <th>10011</th>\n",
       "      <td>103</td>\n",
       "      <td>89</td>\n",
       "      <td>88</td>\n",
       "      <td>156</td>\n",
       "      <td>133</td>\n",
       "      <td>134</td>\n",
       "      <td>183</td>\n",
       "      <td>157</td>\n",
       "      <td>159</td>\n",
       "      <td>205</td>\n",
       "      <td>...</td>\n",
       "      <td>199</td>\n",
       "      <td>172</td>\n",
       "      <td>173</td>\n",
       "      <td>179</td>\n",
       "      <td>154</td>\n",
       "      <td>152</td>\n",
       "      <td>99</td>\n",
       "      <td>84</td>\n",
       "      <td>80</td>\n",
       "      <td>0</td>\n",
       "    </tr>\n",
       "    <tr>\n",
       "      <th>10012</th>\n",
       "      <td>178</td>\n",
       "      <td>160</td>\n",
       "      <td>165</td>\n",
       "      <td>206</td>\n",
       "      <td>184</td>\n",
       "      <td>190</td>\n",
       "      <td>228</td>\n",
       "      <td>204</td>\n",
       "      <td>210</td>\n",
       "      <td>242</td>\n",
       "      <td>...</td>\n",
       "      <td>241</td>\n",
       "      <td>216</td>\n",
       "      <td>216</td>\n",
       "      <td>224</td>\n",
       "      <td>201</td>\n",
       "      <td>199</td>\n",
       "      <td>197</td>\n",
       "      <td>177</td>\n",
       "      <td>172</td>\n",
       "      <td>0</td>\n",
       "    </tr>\n",
       "    <tr>\n",
       "      <th>10013</th>\n",
       "      <td>166</td>\n",
       "      <td>124</td>\n",
       "      <td>142</td>\n",
       "      <td>179</td>\n",
       "      <td>138</td>\n",
       "      <td>156</td>\n",
       "      <td>186</td>\n",
       "      <td>138</td>\n",
       "      <td>156</td>\n",
       "      <td>188</td>\n",
       "      <td>...</td>\n",
       "      <td>195</td>\n",
       "      <td>178</td>\n",
       "      <td>187</td>\n",
       "      <td>191</td>\n",
       "      <td>168</td>\n",
       "      <td>177</td>\n",
       "      <td>186</td>\n",
       "      <td>159</td>\n",
       "      <td>169</td>\n",
       "      <td>0</td>\n",
       "    </tr>\n",
       "    <tr>\n",
       "      <th>10014</th>\n",
       "      <td>178</td>\n",
       "      <td>145</td>\n",
       "      <td>124</td>\n",
       "      <td>178</td>\n",
       "      <td>145</td>\n",
       "      <td>123</td>\n",
       "      <td>177</td>\n",
       "      <td>143</td>\n",
       "      <td>118</td>\n",
       "      <td>176</td>\n",
       "      <td>...</td>\n",
       "      <td>185</td>\n",
       "      <td>158</td>\n",
       "      <td>138</td>\n",
       "      <td>163</td>\n",
       "      <td>100</td>\n",
       "      <td>88</td>\n",
       "      <td>163</td>\n",
       "      <td>105</td>\n",
       "      <td>91</td>\n",
       "      <td>6</td>\n",
       "    </tr>\n",
       "  </tbody>\n",
       "</table>\n",
       "<p>10015 rows × 193 columns</p>\n",
       "</div>"
      ],
      "text/plain": [
       "       pixel0000  pixel0001  pixel0002  pixel0003  pixel0004  pixel0005  \\\n",
       "0            199        156        188        210        165        198   \n",
       "1            115         87        115        180        133        158   \n",
       "2            203        146        164        209        144        153   \n",
       "3            135         96        110        198        141        156   \n",
       "4            204        156        187        232        185        216   \n",
       "...          ...        ...        ...        ...        ...        ...   \n",
       "10010        205        186        202        208        184        194   \n",
       "10011        103         89         88        156        133        134   \n",
       "10012        178        160        165        206        184        190   \n",
       "10013        166        124        142        179        138        156   \n",
       "10014        178        145        124        178        145        123   \n",
       "\n",
       "       pixel0006  pixel0007  pixel0008  pixel0009  ...  pixel0183  pixel0184  \\\n",
       "0            216        176        203        215  ...        214        167   \n",
       "1            200        153        187        215  ...        207        167   \n",
       "2            217        160        181        215  ...        211        160   \n",
       "3            208        148        158        210  ...        179        141   \n",
       "4            236        196        220        217  ...        236        189   \n",
       "...          ...        ...        ...        ...  ...        ...        ...   \n",
       "10010        211        183        188        221  ...        229        205   \n",
       "10011        183        157        159        205  ...        199        172   \n",
       "10012        228        204        210        242  ...        241        216   \n",
       "10013        186        138        156        188  ...        195        178   \n",
       "10014        177        143        118        176  ...        185        158   \n",
       "\n",
       "       pixel0185  pixel0186  pixel0187  pixel0188  pixel0189  pixel0190  \\\n",
       "0            191        199        157        175        184        143   \n",
       "1            188        177        128        138         74         51   \n",
       "2            175        199        152        172        177        138   \n",
       "3            157        153        122        138         58         39   \n",
       "4            213        233        182        209        207        175   \n",
       "...          ...        ...        ...        ...        ...        ...   \n",
       "10010        211        218        199        202        207        185   \n",
       "10011        173        179        154        152         99         84   \n",
       "10012        216        224        201        199        197        177   \n",
       "10013        187        191        168        177        186        159   \n",
       "10014        138        163        100         88        163        105   \n",
       "\n",
       "       pixel0191  label  \n",
       "0            167      2  \n",
       "1             60      2  \n",
       "2            158      2  \n",
       "3             46      2  \n",
       "4            188      2  \n",
       "...          ...    ...  \n",
       "10010        186      0  \n",
       "10011         80      0  \n",
       "10012        172      0  \n",
       "10013        169      0  \n",
       "10014         91      6  \n",
       "\n",
       "[10015 rows x 193 columns]"
      ]
     },
     "metadata": {},
     "output_type": "display_data"
    }
   ],
   "source": [
    "Dataset = pd.read_csv('../Data/hmnist_8_8_RGB.csv') # Importing Dataset\n",
    "\n",
    "display(Dataset) # Printing The Results"
   ]
  },
  {
   "cell_type": "markdown",
   "id": "5f8a7a6c",
   "metadata": {},
   "source": [
    "### Seprating Independent & Dependent Variables"
   ]
  },
  {
   "cell_type": "code",
   "execution_count": 24,
   "id": "90c088bb",
   "metadata": {},
   "outputs": [
    {
     "data": {
      "text/plain": [
       "array([[199, 156, 188, ..., 184, 143, 167],\n",
       "       [115,  87, 115, ...,  74,  51,  60],\n",
       "       [203, 146, 164, ..., 177, 138, 158],\n",
       "       ...,\n",
       "       [178, 160, 165, ..., 197, 177, 172],\n",
       "       [166, 124, 142, ..., 186, 159, 169],\n",
       "       [178, 145, 124, ..., 163, 105,  91]], dtype=int64)"
      ]
     },
     "metadata": {},
     "output_type": "display_data"
    }
   ],
   "source": [
    "X = Dataset.iloc[:, :-1].values # Extracting IVs\n",
    "\n",
    "display(X) # Printing The Result"
   ]
  },
  {
   "cell_type": "code",
   "execution_count": 25,
   "id": "bed759df",
   "metadata": {},
   "outputs": [
    {
     "data": {
      "text/plain": [
       "array([2, 2, 2, ..., 0, 0, 6], dtype=int64)"
      ]
     },
     "metadata": {},
     "output_type": "display_data"
    }
   ],
   "source": [
    "Y = Dataset.iloc[:, -1].values # Extracting DVs\n",
    "\n",
    "display(Y) # Printing The Result"
   ]
  },
  {
   "cell_type": "markdown",
   "id": "f37bffff",
   "metadata": {},
   "source": [
    "### Training & Test Set"
   ]
  },
  {
   "cell_type": "code",
   "execution_count": 26,
   "id": "0c0f4ae9",
   "metadata": {},
   "outputs": [],
   "source": [
    "X_Train, X_Test, Y_Train, Y_Test= train_test_split(X, Y, test_size = 0.2, random_state = 0) # Spliting Into Train & Test Set"
   ]
  },
  {
   "cell_type": "markdown",
   "id": "27e7467b",
   "metadata": {},
   "source": [
    "### Data Pre-Processing"
   ]
  },
  {
   "cell_type": "markdown",
   "id": "55242f6b",
   "metadata": {},
   "source": [
    "* Class Distribution Graph (Before Sampling)"
   ]
  },
  {
   "cell_type": "code",
   "execution_count": 27,
   "id": "3c6f678c",
   "metadata": {},
   "outputs": [
    {
     "data": {
      "image/png": "[encoded data removed]",
      "text/plain": [
       "<Figure size 432x288 with 1 Axes>"
      ]
     },
     "metadata": {
      "needs_background": "light"
     },
     "output_type": "display_data"
    }
   ],
   "source": [
    "Before = pd.DataFrame(Y_Train) # Extracting Dependent Variable Of The Training Set\n",
    "\n",
    "Before.columns = ['Classification Of Skin Cancer'] # Giving Cloumn Name\n",
    "\n",
    "sns.countplot(x = 'Classification Of Skin Cancer', data = Before) # Plotting The Count Graph\n",
    "\n",
    "plt.title('Classification Distribution Graph (Before Sampling)') # Giving Title To The Graph\n",
    "\n",
    "plt.show() # Showing The Graph"
   ]
  },
  {
   "cell_type": "markdown",
   "id": "54997fd7",
   "metadata": {},
   "source": [
    "* Class Distribution Table (Before Sampling)"
   ]
  },
  {
   "cell_type": "markdown",
   "id": "0e283454",
   "metadata": {},
   "source": [
    "#### Applying SMOTE (Synthetic Minority Over-Sampling Technique) To Balance The Data"
   ]
  },
  {
   "cell_type": "code",
   "execution_count": 28,
   "id": "f716c146",
   "metadata": {},
   "outputs": [],
   "source": [
    "Over = SMOTE() # Creating An Object Of The Class\n",
    "\n",
    "X, Y = Over.fit_resample(X_Train, Y_Train)"
   ]
  },
  {
   "cell_type": "markdown",
   "id": "1b3d9668",
   "metadata": {},
   "source": [
    "* Class Distribution Graph (After SMOTE)"
   ]
  },
  {
   "cell_type": "code",
   "execution_count": 29,
   "id": "f37e9ac9",
   "metadata": {},
   "outputs": [
    {
     "data": {
      "image/png": "[encoded data removed]",
      "text/plain": [
       "<Figure size 432x288 with 1 Axes>"
      ]
     },
     "metadata": {
      "needs_background": "light"
     },
     "output_type": "display_data"
    }
   ],
   "source": [
    "After_Smote = pd.DataFrame(Y) # Extracting Dependent Variable Of The Training Set\n",
    "\n",
    "After_Smote.columns = ['Classification Of Skin Cancer'] # Giving Cloumn Name\n",
    "\n",
    "sns.countplot(x = 'Classification Of Skin Cancer', data = After_Smote) # Plotting The Count Graph\n",
    "\n",
    "plt.title('Classification Distribution Graph (After SMOTE)') # Giving Title To The Graph\n",
    "\n",
    "plt.show() # Showing The Graph"
   ]
  },
  {
   "cell_type": "markdown",
   "id": "de85e96e",
   "metadata": {},
   "source": [
    "#### Applying Random Over Sampling"
   ]
  },
  {
   "cell_type": "code",
   "execution_count": 30,
   "id": "662fa1b4",
   "metadata": {},
   "outputs": [],
   "source": [
    "Random_Over = RandomOverSampler()\n",
    "\n",
    "X_Over, Y_Over = Random_Over.fit_resample(X_Train, Y_Train)"
   ]
  },
  {
   "cell_type": "markdown",
   "id": "71a1076e",
   "metadata": {},
   "source": [
    "* Classification Distribution Graph (After Random Sampling)"
   ]
  },
  {
   "cell_type": "code",
   "execution_count": 31,
   "id": "31284772",
   "metadata": {},
   "outputs": [
    {
     "data": {
      "image/png": "[encoded data removed]",
      "text/plain": [
       "<Figure size 432x288 with 1 Axes>"
      ]
     },
     "metadata": {
      "needs_background": "light"
     },
     "output_type": "display_data"
    }
   ],
   "source": [
    "After_Random = pd.DataFrame(Y_Over) # Extracting Dependent Variable Of The Training Set\n",
    "\n",
    "After_Random.columns = ['Classification Of Skin Cancer'] # Giving Cloumn Name\n",
    "\n",
    "sns.countplot(x = 'Classification Of Skin Cancer', data = After_Random) # Plotting The Count Graph\n",
    "\n",
    "plt.title('Classification Distribution Graph (After Random Sampling)') # Giving Title To The Graph\n",
    "\n",
    "plt.show() # Showing The Graph"
   ]
  },
  {
   "cell_type": "markdown",
   "id": "adc69a48",
   "metadata": {},
   "source": [
    "### xxxxxxxxxxxxxxxxxxxxxxxxxxxxxxxxxxxxxxxxxxxxxxxxxxxxxxxxxxxxxxxxxxxxxxxxxxxxxxxxxxxxxxxxxxxxxx"
   ]
  }
 ],
 "metadata": {
  "kernelspec": {
   "display_name": "Python 3 (ipykernel)",
   "language": "python",
   "name": "python3"
  },
  "language_info": {
   "codemirror_mode": {
    "name": "ipython",
    "version": 3
   },
   "file_extension": ".py",
   "mimetype": "text/x-python",
   "name": "python",
   "nbconvert_exporter": "python",
   "pygments_lexer": "ipython3",
   "version": "3.9.7"
  }
 },
 "nbformat": 4,
 "nbformat_minor": 5
}
