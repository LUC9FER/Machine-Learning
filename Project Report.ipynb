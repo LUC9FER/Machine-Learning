{
 "cells": [
  {
   "cell_type": "markdown",
   "id": "39814f03",
   "metadata": {},
   "source": [
    "# Skin Cancer"
   ]
  },
  {
   "cell_type": "markdown",
   "id": "3b6f417d",
   "metadata": {},
   "source": [
    "<details>\n",
    "<summary><b>Table of Content</b> <i>(Click to Open)</i> </summary>\n",
    "<!-- MarkdownTOC -->\n",
    "\n",
    "1. **Executive Summary** <br>\n",
    "2. **Importing Machine Learning Models** <br>\n",
    "3. **Introduction** <br>\n",
    "4. **Need For This** <br>\n",
    "5. **Data Understanding** <br>\n",
    "6. **Exploratory Data Analysis** <br>\n",
    "7. **Data Preparation** <br>\n",
    "8. **Libraries** <br>\n",
    "9. **Machine Learning Models** <br>\n",
    "    9.1 *KNN* <br>\n",
    "    9.2 *Random Forest* <br>\n",
    "    9.3 *Support Vector Machines* <br>\n",
    "    9.4 *XG Boost*<br>\n",
    "10. **Results, Strengths and Weakness** <br>\n",
    "11. **Future Work** <br>\n",
    "12. **Reflection** <br>\n",
    "13. **References**\n",
    "    \n",
    "\n",
    "<!-- /MarkdownTOC -->\n",
    "</details>"
   ]
  },
  {
   "cell_type": "markdown",
   "id": "f16a46d0",
   "metadata": {},
   "source": [
    "## Executive Summary"
   ]
  },
  {
   "cell_type": "markdown",
   "id": "e0972c6f",
   "metadata": {},
   "source": [
    "In this report, we are going to see how we can harness the power of machine learning by building classification models and using them to predict whether a patient is suffering from skin cancer or not and classify the type of cancer they are suffering from. We will also see the work that went into tuning the pre-trained models and the change in their performance which will be measured in terms of accuracy percentage every time the model is tunned. The report will also emphasize the future work that needed to be done on these models or an alternate way of prediction and classification. "
   ]
  },
  {
   "cell_type": "markdown",
   "id": "eee1783d",
   "metadata": {},
   "source": [
    "## Importing Machine Learning Models"
   ]
  },
  {
   "cell_type": "code",
   "execution_count": null,
   "id": "fd7382e9",
   "metadata": {},
   "outputs": [],
   "source": [
    "import import_ipynb # Importing 'import_ipynb' Library\n",
    "\n",
    "import PreProcessing # Importing The Data Pre-Processing File\n",
    "\n",
    "from PreProcessing import * # Importing All The Code From The File"
   ]
  },
  {
   "cell_type": "markdown",
   "id": "ec4320dc",
   "metadata": {},
   "source": [
    "## Introduction"
   ]
  },
  {
   "cell_type": "markdown",
   "id": "4dc4fb67",
   "metadata": {},
   "source": [
    "The focus of this project is on building a machine learning model for skin cancer where the model can take data of features that can help to classify the types of skin cancer as input and based on that features data that model can tell us about the type of skin cancer a particular person has. The dataset has been downloaded from a **Kaggle** whose link can be found in the references section. This project report is divided into the following sections: <br>\n",
    "\n",
    "1. **Need For This:**  Where the focus of the report will be on the reasons why and how this project can be useful in the real world and its significance. <br>\n",
    "\n",
    "2. **Data Understanding:** Here we explore the datasets that were given along with the classification of the types of skin cancer on which the project will be dependent. <br>\n",
    "\n",
    "3. **Exploratory Data Analysis:** A summary of the main characteristics of the data. <br>\n",
    "\n",
    "4. **Data Preparation:** The emphasis of this section will be on the techniques and steps that were used in the data pre-processing for the datasets that have been chosen. <br>\n",
    "\n",
    "5.\t**Libraries:** The necessary libraries that will be needed for this project. <br>\n",
    "\n",
    "6.\t**Machine Learning Models:** This is the main part of the report as here we are going to see those pre-trained models that were used in this project for the prediction. <br>\n",
    "\n",
    "7.\t**Results, Strengths and Weakness:** For every model that has been used here. <br>\n",
    "\n",
    "8.\t**Future Work:** In this, we are going to discuss the work that is can be done on the model for producing better results based on the foundational work. <br>  \n",
    "\n",
    "9.\t**Reflection:** A discussion about my personal and professional learning that occurred by undertaking this project. <br>\n"
   ]
  },
  {
   "cell_type": "markdown",
   "id": "c9061384",
   "metadata": {},
   "source": [
    "## Need For This"
   ]
  },
  {
   "cell_type": "markdown",
   "id": "99f62d81",
   "metadata": {},
   "source": [
    "Before discussing the need for this project let's see what skin cancer actually is and what dangers does it poses. Skin cancer is said to be the out-of-control development of abnormal cells in the epidermis which is the outermost skin layer. (Sarnoff D., 2022). It is considered that detecting skin cancer at an early stage can prevent the risk of disfigurement that can occur through removal and also most serious cases that can lead to a patient’s death. (skcin.org). The most common technique of detecting skin cancer is a device created by DermaSensor a health technology company which is a fast point and click device that asses the lesions in the patients. The device weighs around 1.9KG has a standard 110v-250v/50-60Hz general power outlet. It also has a handheld unit that uses AI & spectroscopy for assessing. It has a success rate of 93% when it comes to detecting skin cancer (medicaldevice-network.com, 2021). The goal of this project is to increase this success percentage of detecting cancer and also instead of having some prerequisites for using such technology, we can use a simple software to detect skin cancer and can see its type.  "
   ]
  },
  {
   "cell_type": "markdown",
   "id": "68821145",
   "metadata": {},
   "source": [
    "## Data Understanding"
   ]
  },
  {
   "cell_type": "markdown",
   "id": "cbe0443b",
   "metadata": {},
   "source": [
    "The given data for classifying skin cancer on Kaggle is separated into two categories. The first one is more than 10000 images of patients suffering from skin cancer and another one is the pixels of the images stored in the form of a .csv file. <br> \n",
    "\n",
    "**Images:**\n",
    "For this section, we have more than 10000 images that are divided into two parts: **Part 1** & **Part 2** along with this we also have a .csv file that contains these columns:<br> \n",
    "\n",
    "•\t**lesion_id**: Different regions in the tissues that were damaged,<br> \n",
    "•\t**image_id**: Contains the image ID that is in Part 1 & Part 2 folder,<br> \n",
    "•\t**dx**: Type of skin cancer,<br> \n",
    "•\t**dx_type**: Method of screening,<br> \n",
    "•\t**age**: Age of the patients,<br> \n",
    "•\t**sex**: Gender of the patients,<br> \n",
    "•\t**localization**: Part of the body where the skin is damaged.<br> \n",
    "\n",
    "**.CSV File:**\n",
    "This category is further divided into 4 classifications: **hmnist_8_8_l, hmnist_8_8_RGB, hmnist_28_28_l,** and **hmnist_28_28_RGB**. All of these files contain the pixel values of the images that are in Part 1 & 2 folders and the labels where each label corresponds to a type of skin cancer.\n",
    "•\t**0 -> Actinic keratoses (akiec)<br> \n",
    "•\t1-> Basal cell carcinoma (bcc)<br> \n",
    "•\t2->  Benign Keratosis (bkl)<br> \n",
    "•\t3-> Dermatofibroma (df)<br> \n",
    "•\t4-> Melanocytic nevi (nv)<br> \n",
    "•\t5-> Vascular lesions (vas)<br> \n",
    "•\t6-> Melanoma (mel)**<br> \n",
    "\n",
    "The thing that separates them is the size of the matrix that was used to extract these pixel values.<br> \n",
    "\n",
    "**hmnist_8_8_l**: Here, the matrix that was used was 8x8 where the feature variable (The measurable piece that is used to train models due to which a model can do prediction on unseen data), (V datarobot.com). The pixels in this set are from **0000 to 0063**. Another thing about this set is that the number of pixels belongs to the black & white images. <br> \n",
    "\n",
    "**hmnist_8_8_RGB**: The matrix used in this set was off again 8x8 but here the number of pixels is from **0000 to 0191**. The reason behind this difference is that here the features are extracted from cloured images.  <br> \n",
    "\n",
    "**hmnist_28_28_l**: In this set 28x28 matrix was used where the features were extracted from the black & white images. The number of pixels here is from **0000 to 0783**. <br> \n",
    "\n",
    "**hmnist_28_28_RGB**: The matrix used was again of 28x28 but the extracted features are from cloured images and the pixels are from **0000 to 2351**. <br> \n",
    "\n",
    "Although there are a number of datasets available to tackle the problem the dataset that was considered for the project was **hmnist_8_8_RGB** and the reason behind this is the limitation of the computational power. \n"
   ]
  },
  {
   "cell_type": "markdown",
   "id": "11aebcbe",
   "metadata": {},
   "source": [
    "## Exploratory Data Analysis"
   ]
  },
  {
   "cell_type": "markdown",
   "id": "1bbc197a",
   "metadata": {},
   "source": [
    "In this section of the report, we are going to do discuss the EDA that was done on the chosen dataset.  After going through the data I found some inconsistency in the distribution of labels that displays the classification of skin cancer. To see this irregularity I used a library Seaborn which contains a class called **count plot** which contains the ability to show the count of each classification in the dataset. <br>"
   ]
  },
  {
   "cell_type": "code",
   "execution_count": 2,
   "id": "6672e8ff",
   "metadata": {},
   "outputs": [
    {
     "data": {
      "image/png": "[encoded data removed]",
      "text/plain": [
       "<Figure size 432x288 with 1 Axes>"
      ]
     },
     "metadata": {
      "needs_background": "light"
     },
     "output_type": "display_data"
    }
   ],
   "source": [
    "Before = pd.DataFrame(Y_Train) # Extracting Dependent Variable Of The Training Set\n",
    "\n",
    "Before.columns = ['Classification Of Skin Cancer'] # Giving Cloumn Name\n",
    "\n",
    "sns.countplot(x = 'Classification Of Skin Cancer', data = Before) # Plotting The Count Graph\n",
    "\n",
    "plt.title('Classification Distribution Graph (Before Sampling)') # Giving Title To The Graph\n",
    "\n",
    "plt.show() # Showing The Graph"
   ]
  },
  {
   "cell_type": "markdown",
   "id": "d5783546",
   "metadata": {},
   "source": [
    "As it can be seen in the graph we have a huge variation in the classification of skin cancer. As per the graph, the **label 4 (Melanocytic nevi (nv))** count is **above 5000** whereas the **lowest count** belongs to **label 3 (Dermatofibroma (df))** which is **below 100**. As for the other classifications, the count is:  <br>\n",
    "\n",
    "label 0 (Actinic keratoses (akiec)) -> between 100 and 200, <br>\n",
    "label 1(Basal cell carcinoma (bcc))-> between 400 and 500, <br>\n",
    "label 2(Benign Keratosis (bkl)) -> between 900 and 1000,  <br>\n",
    "label 5 (Vascular lesions (vas)) -> between 100 and 200, and <br>\n",
    "label 6 (Melanoma (mel)) -> between 800 and 900.  <br>\n",
    "\n",
    "To handle this imbalance I used the sampling technique which will be discussed in the next section of the report. \n"
   ]
  },
  {
   "cell_type": "markdown",
   "id": "b9b75c44",
   "metadata": {},
   "source": [
    "## Data Preperation"
   ]
  },
  {
   "cell_type": "markdown",
   "id": "66f56956",
   "metadata": {},
   "source": [
    "In this section, we are going to discuss the technique that was used to handle the imbalance in the dataset that was highlighted in the previous section. Along with these techniques we also prepare the dataset for the next which is training the machine learning model. <br>\n",
    "\n",
    "For dealing with the imbalanced classification I used the **resampling technique**. This technique contains two methods:<br>\n",
    "\n",
    "1. Undersampling the majority class in which we remove a few observations that belong to the majority holder class. This technique is only efficient when we have data in million because removing the original observation which is valuable and can lead to model underfitting. Underfitting is a situation in the field of data science where a machine learning model is not able to grasp the relationship between features and dependent variables accurately. (ibm.com, 2021). <br>\n",
    "\n",
    "2.\tOversampling the minority class where we add data for minority class so that we can bring the count of each class on an equal scale. The adding of the data can be done in two ways. The first way is **Random Over Sampling** in which the technique replicates the minority class observations whereas the second one is **SMOTE** which is also known as **Synthetic Minority Over Sampling Technique** in which we use the **KNN algorithm** (which will be discussed in the Machine learning model section) to generate synthetic data samples. (Kumar S., 2020). <br>\n",
    "\n",
    "I used the SMOTE technique to create synthetic samples for the minority class because the dataset only contains 10016 and using undersampling could have resulted in a huge loss of the data. The reason behind using SMOTE instead of using random oversampling is to maintain the quality of data as random oversampling is just replicating the data samples whereas in the case of SMOTE we are producing synthetic points which can be good for the machine learning model. <br>"
   ]
  },
  {
   "cell_type": "code",
   "execution_count": 3,
   "id": "0dd8741b",
   "metadata": {},
   "outputs": [
    {
     "data": {
      "image/png": "[encoded data removed]",
      "text/plain": [
       "<Figure size 432x288 with 1 Axes>"
      ]
     },
     "metadata": {
      "needs_background": "light"
     },
     "output_type": "display_data"
    }
   ],
   "source": [
    "After_Smote = pd.DataFrame(Y) # Extracting Dependent Variable Of The Training Set\n",
    "\n",
    "After_Smote.columns = ['Classification Of Skin Cancer'] # Giving Cloumn Name\n",
    "\n",
    "sns.countplot(x = 'Classification Of Skin Cancer', data = After_Smote) # Plotting The Count Graph\n",
    "\n",
    "plt.title('Classification Distribution Graph (After Sampling)') # Giving Title To The Graph\n",
    "\n",
    "plt.show() # Showing The Graph"
   ]
  },
  {
   "cell_type": "markdown",
   "id": "b80c715e",
   "metadata": {},
   "source": [
    "There are numerous other ways to handle imbalanced datasets which can be used in the future. Some of them are:<br>\n",
    "\n",
    "•\tChanging the performance metric where instead of using the accuracy score (Number of correctly predicted data / total number of  data), (Harikrishnan N., 2019), we have to use these performance metrics:<br>\n",
    "\n",
    "o\tConfusion Matrix: A table that shows correct predictions along with categories of incorrect ones, <br>\n",
    "\n",
    "o\tPrecision: Where,  the number of true positives / all positive predictions, <br>\n",
    "\n",
    "o\tRecall: the number of true positives/number positive in test data, <br>\n",
    "\n",
    "o\tF1 Score: It is the weighted average of precision and recall. <br>\n",
    "\n",
    "\n",
    "\n",
    "•\tChanging the algorithm where we use a different machine learning model that can handle imbalanced datasets. (Boyle T., 2019).  And many more. <br>\n",
    "\n",
    "The important thing that we need to remember is that these techniques are only applicable to the training subset. <br>\n",
    "\n",
    "Another step towards data preparation was to split the dataset into training and test set. The training set is used to train a machine learning model whereas the test set is treated as the unseen data on which we predict results. The reason we split the entire data into these two sets is to avoid underfitting which is discussed above and overfitting. Overfitting occurs when a model fits itself exactly according to the nature of the training set which can result in very poor performance of the model on the unseen data which defeats the entire purpose of building a machine learning model. (askpython.com). <br>\n"
   ]
  },
  {
   "cell_type": "markdown",
   "id": "1b0a443a",
   "metadata": {},
   "source": [
    "The splitting of the data into training and test set in python is done with the help of a library called **model_selection** which contains a class called **train_test_split()** but before splitting the data I extracted the feature varaibles in **X** and the classifications also known as the dependent variable in **Y**. "
   ]
  },
  {
   "cell_type": "markdown",
   "id": "8c693b15",
   "metadata": {},
   "source": [
    "## Libraries"
   ]
  },
  {
   "cell_type": "markdown",
   "id": "193cd8bf",
   "metadata": {},
   "source": [
    "Before building a machine learning model we have to import some libraries. <br>\n",
    "\n",
    "**NUMPY**: This library is to performs numerous mathematical operations on the arrays. <br>\n",
    "\n",
    "**PANDAS**: It is created for data analysis and manipulation. <br>\n",
    "\n",
    "**MATPLOT**: A library used to access visualization tools such as bar plots, histograms, etc.<br>\n",
    "\n",
    "**SEABORN**: It is same as MATPLOT. <br>\n",
    "\n",
    "**IMBLEARN**: This library contains those classes that help in balancing the data that have high variance. <br>\n",
    "\n",
    "**SKLEARN**: This is the main library in this project as the majority of the classes that it contains help us to use pre-trained machine learning models. \n"
   ]
  },
  {
   "cell_type": "markdown",
   "id": "f8d0b838",
   "metadata": {},
   "source": [
    "## Machine Learning Models"
   ]
  },
  {
   "cell_type": "markdown",
   "id": "9583599f",
   "metadata": {},
   "source": [
    "Machine learning models are said to be the files that are trained to identify patterns. The way a model work is we feed it some data which is known as **training data** and based on the patterns we predict values on **test data**. (docs.microsoft.com, 2021). Training and test data are subsets that are extracted from the same dataset. (developers.google.com). The reason we split the entire datasets into these two subsets is to evaluate the performance of these models when they are made predictions. (Brownlee J., 2020). <br>\n",
    "\n",
    "The models that we are going to use in this project are:  <br>\n",
    "\n",
    "•\t**KNN,  <br>\n",
    "•\tRandom Forest,  <br>\n",
    "•\tSupport Vector Machines.**  <br>\n"
   ]
  },
  {
   "cell_type": "markdown",
   "id": "1179d281",
   "metadata": {},
   "source": [
    "**KNN:**\n",
    "\n",
    "KNN stands for K-Nearest Neighbour which comes under the supervised machine learning algorithm. This algorithm is used to solve classification problems. (Sharma S., 2021). The algorithm is built by following these steps:<br>\n",
    "\n",
    "•\tDividing the data points into K categories (value of K is varies as per the nature of the dataset). <br>\n",
    "\n",
    "•\tAfter dividing the data points, the next phase is finding the distance between the new data point and the categories using these four distance calculating metrics:<br>\n",
    "\n",
    "o\tEuclidean Distance,<br>\n",
    "o\tManhattan Distance,<br>\n",
    "o\tMinkowski Distance, <br>\n",
    "o\tHamming Distance (Sharma P., 2020). <br>\n",
    "\n",
    "•\tCounting the numbers of the points in each category to which the new data point is close. <br>\n",
    "\n",
    "•\tAssigning the new data point to the category in which the point is close and has a high number of old data points. <br>\n"
   ]
  },
  {
   "cell_type": "markdown",
   "id": "f02e9482",
   "metadata": {},
   "source": [
    "In the context of this project, to apply the KNN model I had to import it from a class in the SKLEARN library known as **neighbors** which include **KNeighborsClassifier**. After importing the class I tuned three parameters: <br>\n",
    "\n",
    "**n_neighbours ->** In which we decide the value of K. For this model, the value is 50 as to the optimal value of K is calculated by dividing the square root of the total number of samples by 2 in which this case is 10016. <br>\n",
    "\n",
    "**Metric ->** In which we have to decide the distance metric which in this case is Minkowski but with the value of P (the next parameter) it can be equivalent to the standard Euclidean metric or manhattan metric. <br>\n",
    "\n",
    "**P ->** It is the power parameter for the Minkowski metric. For this model, the value is 2 which is equal to the standard Euclidean metric. (scikit-learn.org). <br>\n",
    "\n",
    "After tuning the parameter the next step I did was to create an instance for this class which is named KNN which was used to train the model by using a function called **fit** where I passed the **X & Y** training set. After training the model I predicted the results on the test set as well as the training set. The reason for predicting the values of the training set was to check whether the model with the above set of hyperparameters was under fitted or overfit. Here I only worked with the training set on which oversampling technique was applied. "
   ]
  },
  {
   "cell_type": "markdown",
   "id": "68abb6f4",
   "metadata": {},
   "source": [
    "**Random Forest:**<br>\n",
    "\n",
    "The second model that I used was the random forest. The random forest model is part of the ensemble learning technique which is known for combining numerous machine learning models into one. It is also a part of the supervised learning algorithm. It tries decision trees on various samples and then takes their majority votes. (Sruthi ER., 2021). Decision tree is also a classification machine learning model. <br>\n",
    "\n",
    "To apply the random forest model again I had to use SKLEARN library in which I used the class ensemble in which I imported RandomForestClassifiers. Before creating an instance I tuned these hyperparameters: <br>\n",
    "\n",
    "**n_estimators ->** Here we give the number of the decision tree that the model will use. In this, the number is 100. <br>\n",
    "**random_state ->** It controls the randomness of the bootstrapping. I used 0 as the value. <br>\n",
    "**max_depth ->** It decided the maximum depth of the trees and also controls the overfitting.   (scikit-learn.org).<br>\n",
    "\n",
    "After tuning and creating an instance of the model, I used two types of training sets, one for the imbalanced set and another one for the balanced set. After training, I again predicted the values on the training and test set. \n"
   ]
  },
  {
   "cell_type": "markdown",
   "id": "db547af7",
   "metadata": {},
   "source": [
    "**Support Vector Machines:**<br>\n",
    "\n",
    "Support vectors machine or SVM uses the concept of hyperplanes to train the model. The hyperplane is these decision boundaries that help in the classification of the data points and these hyperplanes or a line in the second dimension are created or controlled by some particular data points that are known as support vectors. (Gandhi R., 2018).<br>\n",
    "\n",
    "I used SKLEARN class called **svm** in which I accessed **SVC** . I used these hyperparameters:<br>\n",
    "\n",
    "**Kernel ->** It specifies the algorithm which is used to create the hyperplane. These algorithms are choosed on the basis of the type of relationship in the dataset (linear, non-linear). I used rbf which is equal to non-linear. <br>\n",
    "**C ->** It is the regularization parameter. I used the value 1.0. (scikit-learn.org).<br>\n",
    "\n",
    "I train the model on the training set (imbalanced & balanced used creating SMOTE) and predicted the results on both training and test sets. <br>\n",
    "\n",
    "Although I tuned the parameters after getting the results I tried various other values and techniques to increase the model accuracy and F1 score and also to reduce the underfit and overfit condition. \n"
   ]
  },
  {
   "cell_type": "markdown",
   "id": "4679f26c",
   "metadata": {},
   "source": [
    "## Results, Strengths & Weakness"
   ]
  },
  {
   "cell_type": "markdown",
   "id": "91aa590f",
   "metadata": {},
   "source": [
    "**KNN**"
   ]
  },
  {
   "cell_type": "markdown",
   "id": "2da6f3c0",
   "metadata": {},
   "source": [
    "**Test Accuracy 44.03394907638542 %** <br>\n",
    "\n",
    "**Training Accuracy 81.61321308500987 %**"
   ]
  },
  {
   "cell_type": "markdown",
   "id": "fb88de87",
   "metadata": {},
   "source": [
    "In this model, I only used the balanced data training set to see the performance of a model when we use synthetic data. The accuracy score which is mentioned above was not good. As you can see the model is also overfitting as the difference between the accuracy score of training and test data is very high but the F1 score on each of the classes (0 - 6) is far from 0 which means that the model is giving predictions by taking every class into consideration. To improve the accuracy score I tried to reduce the dimensionality of the dataset by applying PCA. PCA stands for principal component analysis in which we transform the huge number of variables (in this case 192) into smaller ones or in other words reduce the numbers of variables but here we keep the valuable information. (Jaadi Z., 2021)."
   ]
  },
  {
   "cell_type": "markdown",
   "id": "80884023",
   "metadata": {},
   "source": [
    "To apply the PCA I had to import a class named **decomposition** in which I used **PCA**. Here I used one parameter **n_components** in which the optimal value for the dataset was 2. (scikit-learn.org). "
   ]
  },
  {
   "cell_type": "markdown",
   "id": "75d103c6",
   "metadata": {},
   "source": [
    "**Test Accuracy 28.856714927608586 %**\n",
    "\n",
    "**Training Accuracy 44.87432627141256 %**"
   ]
  },
  {
   "cell_type": "markdown",
   "id": "d65c4918",
   "metadata": {},
   "source": [
    "After applying PCA you can see that the accuracy went down and there was no significant change in the overfit condition. <br>\n",
    "\n",
    "To conclude it can be said that this model is not optimal for this kind of dataset as I have also tried to tune the **n_neighbours** but there was no noteworthy progress. "
   ]
  },
  {
   "cell_type": "markdown",
   "id": "3655078b",
   "metadata": {},
   "source": [
    "**Random Forest** <br>\n",
    "\n",
    "For this model, I used both imbalanced and balanced data training sets to see the difference in the accuracies. \n"
   ]
  },
  {
   "cell_type": "markdown",
   "id": "1c1b108e",
   "metadata": {},
   "source": [
    "*Imbalanced Data*\n",
    "\n",
    "**Test Accuracy 67.44882675986021 %**"
   ]
  },
  {
   "cell_type": "markdown",
   "id": "4abf7e3e",
   "metadata": {},
   "source": [
    "*Balanced Data*\n",
    "\n",
    "**Test Accuracy 66.15077383924114 %**\n",
    "\n",
    "**Training Accuracy 100.0 %**"
   ]
  },
  {
   "cell_type": "markdown",
   "id": "60405f97",
   "metadata": {},
   "source": [
    "As you can see that for the Imbalance data set the model is performing well as compared to KNN and is also not in the overfit condition but as for the F1 score the model is only predicting for class 4 which means that the model is biased towards one class. For the balanced data set, the model is again performing well and is not biased towards only one class but it is overfitting. \n",
    "\n",
    "For tuning the parameters I used a different approach. I used a method called **GridSearchCv** which is imported from SKLEARN’s **model_selction** in which I used all the optimal parameters with their possible values on both the imbalanced and balanced (both SMOTE & Random Over Sampling) data training set. The benefit of using this technique is that it tries all the possible values and hyperparameters in a single run where the model takes all the conditions (even the over and underfit) into account and gives us the best values for each parameter. \n"
   ]
  },
  {
   "cell_type": "markdown",
   "id": "84994417",
   "metadata": {},
   "source": [
    "As per the results, you can see that for the imbalanced dataset the best accuracy score is 66.82476081954911 %, and the value of the parameter to achieve that is **'max_depth': 0.5, 'n_estimators': 100.**\n",
    "\n",
    "For the balanced data set created using SMOTE, the best accuracy score is **38.55593546341877 %** whereas the value of the parameter to achieve that is **'max_depth': 1, 'n_estimators': 100.** \n",
    " \n",
    "In the case of Random Over Sampling, the best accuracy score is **36.36536977714509 %** whereas the value of the parameter to achieve that is **'max_depth': 1, 'n_estimators': 100.** \n",
    "\n",
    "As per the results, it is clear that the best technique for oversampling is SMOTE but a lot of work is needed to increase the accuracy score. "
   ]
  },
  {
   "cell_type": "markdown",
   "id": "4b018e82",
   "metadata": {},
   "source": [
    "**Support Vector Machines**\n",
    "\n",
    "I trained this model on both the balanced and imbalanced set but instead of using both the techniques of oversampling I only used SMOTE due to its performance in random forests. \n"
   ]
  },
  {
   "cell_type": "markdown",
   "id": "3b3351d8",
   "metadata": {},
   "source": [
    "*Imbalanced Data*\n",
    "\n",
    "**Test Accuracy 70.99350973539691 %**\n",
    "\n",
    "**Test Accuracy 70.99350973539691 %**"
   ]
  },
  {
   "cell_type": "markdown",
   "id": "e56ab357",
   "metadata": {},
   "source": [
    "*Balanced Data*\n",
    "\n",
    "**Test Accuracy 62.50624063904143 %**\n",
    "\n",
    "**Test Accuracy 62.50624063904143 %**"
   ]
  },
  {
   "cell_type": "markdown",
   "id": "417c3e57",
   "metadata": {},
   "source": [
    "For a balanced dataset, The accuracy is good but the model is overfitting. With this model, I used a different approach. Instead of applying PCA or grid search I manually tuned **C & gamma** with different values only on the balanced (SMOTE) dataset. "
   ]
  },
  {
   "cell_type": "markdown",
   "id": "852e76e4",
   "metadata": {},
   "source": [
    "**C= 0.8, Gamma = 0.9**"
   ]
  },
  {
   "cell_type": "markdown",
   "id": "215512a8",
   "metadata": {},
   "source": [
    "*Test Accuracy 67.44882675986021 %*\n",
    "\n",
    "*Training Accuracy 100.0 %*"
   ]
  },
  {
   "cell_type": "markdown",
   "id": "2285ff84",
   "metadata": {},
   "source": [
    "Here, the accuracy score went up from 63.10 to 67.44 but the training accuracy is 100% (overfit). "
   ]
  },
  {
   "cell_type": "markdown",
   "id": "87f4d9c5",
   "metadata": {},
   "source": [
    "**C= 0.5, Gamma = 1.0**"
   ]
  },
  {
   "cell_type": "markdown",
   "id": "a295efdf",
   "metadata": {},
   "source": [
    "*Test Accuracy 11.28307538691962 %*\n",
    "\n",
    "*Training Accuracy 100.0 %*"
   ]
  },
  {
   "cell_type": "markdown",
   "id": "d65ef1c9",
   "metadata": {},
   "source": [
    "The accuracy score went way down from 67.44 to 11.28 and the model is still overfitting by having a 100% accuracy score when the prediction was made on the training set"
   ]
  },
  {
   "cell_type": "markdown",
   "id": "969fd8bd",
   "metadata": {},
   "source": [
    "**C= 0.2, Gamma = 0.1**"
   ]
  },
  {
   "cell_type": "markdown",
   "id": "3ac92203",
   "metadata": {},
   "source": [
    "*Test Accuracy 67.44882675986021 %*\n",
    "\n",
    "*Training Accuracy 87.87288542611665 %*"
   ]
  },
  {
   "cell_type": "markdown",
   "id": "2a2711c6",
   "metadata": {},
   "source": [
    "With these settings, the accuracy score went up from 11.28 to 67.44. Another interesting thing about this set is that there is a drop in the accuracy score for the training set from 100 to 88.32 but still the model is overfitting. "
   ]
  },
  {
   "cell_type": "markdown",
   "id": "b6f7daad",
   "metadata": {},
   "source": [
    "**C= 0.3, Gamma = 0.5**"
   ]
  },
  {
   "cell_type": "markdown",
   "id": "5d41db2a",
   "metadata": {},
   "source": [
    "*Test Accuracy 11.333000499251124 %*\n",
    "\n",
    "*Training Accuracy 87.14445808207482 %*"
   ]
  },
  {
   "cell_type": "markdown",
   "id": "6859f771",
   "metadata": {},
   "source": [
    "There was no change in the accuracy score for the test set but for the training set, the accuracy went down from 88.32 to 87.42. \n",
    "\n",
    "To conclude this section, it can be easily interpreted that for this kind of dataset there are very limited pre-trained classification models available and it is possible that higher accuracy can be achieved by finding the best parameter with the best value settings. Although the work is not done there are still various models and hyperparameters are left which can help us with the problem of overfitting and can give us the best accuracy score where the model is taking all the classes into account. "
   ]
  },
  {
   "cell_type": "markdown",
   "id": "c47322c2",
   "metadata": {},
   "source": [
    "## Future Work"
   ]
  },
  {
   "cell_type": "markdown",
   "id": "dd13d733",
   "metadata": {},
   "source": [
    "Although as of now the accuracies are not that good there is a lot of potential with the machine learning models and certain areas that are worth exploring in the near future. There are two methods that we can work with. \n",
    "\n",
    "**Machine Learning Models:**\n",
    "    \n",
    "The first approach can be to continue working with the classification models. We can tune the hyper meter with all the possible values or we can use other powerful models such as XG boost. The accuracy can also be increased if instead of creating synthetic data we can collect more real data to balance the dataset. Till now we were mixing the dummy data which can also be one of the reasons for such performance but with the real data, the results can be different. \n",
    "\n",
    "**Deep Learning Model:**\n",
    "\n",
    "Another approach can be using CNN model. CNN stands for Convolution Neural Network where we use images as the data and with the help of the neural network, we can do predictions. They are best known for processing data that are based on a grid pattern. In brief, we use four layers or building blocks named **Convolution & Pooling** to perform feature extraction, **Flattening** to create an input matrix for the fourth layer **Fully Connected** where the neural network performs prediction. (Yamashita R., 2018). "
   ]
  },
  {
   "cell_type": "markdown",
   "id": "8d5ab0f9",
   "metadata": {},
   "source": [
    "## Reflection"
   ]
  },
  {
   "cell_type": "markdown",
   "id": "1fdeada1",
   "metadata": {},
   "source": [
    "Working on this project helped me to understand the real power of machine learning and how we can use this power to help others. Although the accuracies were not that good using numerous approaches for preprocessing and tuning the hyperparameters helped me to understand that there are a variety of solutions that can be implemented on a single problem that can give different results I also learned about this amazing library SKLEARN where we can find most of the classification as well regression models. Along with this I also learned about the technique SMOTE where we can create synthetic data. The thing that I found most difficult was to handle the imbalanced dataset as it was a huge risk that I took while creating dummy data. To conclude, I would like to use a deep learning approach to solve similar kinds of problems.   "
   ]
  },
  {
   "cell_type": "markdown",
   "id": "35759f14",
   "metadata": {},
   "source": [
    "## References"
   ]
  },
  {
   "cell_type": "markdown",
   "id": "9d34e1ed",
   "metadata": {},
   "source": [
    "1. https://www.skincancer.org/skin-cancer-information/\n",
    "2.https://www.skcin.org/sunSafetyAndPrevention/howToSpotSkinCancer.htm#:~:text=The%20early%20detection%20of%20skin,or%20pre%20cancerous%20skin%20legion.\n",
    "3. https://www.medicaldevice-network.com/projects/dermasensor-skin-cancer/\n",
    "4.https://www.datarobot.com/wiki/feature/#:~:text=Each%20feature%2C%20or%20column%2C%20represents,your%20dataset%20can%20vary%20widely.\n",
    "5.https://www.ibm.com/cloud/learn/underfitting#:~:text=Underfitting%20is%20a%20scenario%20in,training%20set%20and%20unseen%20data.\n",
    "6. https://towardsdatascience.com/7-over-sampling-techniques-to-handle-imbalanced-data-ec51c8db349f\n",
    "7. https://medium.com/analytics-vidhya/confusion-matrix-accuracy-precision-recall-f1-score-ade299cf63cd\n",
    "8. https://towardsdatascience.com/methods-for-dealing-with-imbalanced-data-5b761be45a18\n",
    "9. https://www.askpython.com/python/examples/split-data-training-and-testing-set\n",
    "10. https://docs.microsoft.com/en-us/windows/ai/windows-ml/what-is-a-machine-learning-model#:~:text=A%20machine%20learning%20model%20is,and%20learn%20from%20those%20data.\n",
    "11. https://machinelearningmastery.com/train-test-split-for-evaluating-machine-learning-algorithms/\n",
    "12. https://www.analyticsvidhya.com/blog/2021/05/knn-the-distance-based-machine-learning-algorithm/#:~:text=The%20abbreviation%20KNN%20stands%20for,by%20the%20symbol%20'K'.\n",
    "13. https://www.analyticsvidhya.com/blog/2020/02/4-types-of-distance-metrics-in-machine-learning/\n",
    "14. https://www.analyticsvidhya.com/blog/2021/06/understanding-random-forest/\n",
    "15. https://scikit-learn.org/stable/modules/generated/sklearn.neighbors.KNeighborsClassifier.html\n",
    "16. https://scikit-learn.org/stable/modules/generated/sklearn.ensemble.RandomForestClassifier.html\n",
    "17. https://towardsdatascience.com/support-vector-machine-introduction-to-machine-learning-algorithms-934a444fca47#:~:text=Support%20vectors%20are%20data%20points,help%20us%20build%20our%20SVM.\n",
    "18. https://scikit-learn.org/stable/modules/generated/sklearn.svm.SVC.html\n",
    "19. https://builtin.com/data-science/step-step-explanation-principal-component-analysis\n",
    "20. https://scikit-learn.org/stable/modules/generated/sklearn.decomposition.PCA.html\n",
    "21. https://insightsimaging.springeropen.com/articles/10.1007/s13244-018-0639-9#:~:text=CNN%20is%20a%20type%20of,%2D%20to%20high%2Dlevel%20patterns."
   ]
  },
  {
   "cell_type": "markdown",
   "id": "439f13f7",
   "metadata": {},
   "source": [
    "### xxxxxxxxxxxxxxxxxxxxxxxxxxxxxxxxxxxxxxxxxxxxxxxxxxxxxxxxxxxxxxxxxxxxxxxxxxxxxxxxxxxxxxxxxxxxxx"
   ]
  }
 ],
 "metadata": {
  "kernelspec": {
   "display_name": "Python 3 (ipykernel)",
   "language": "python",
   "name": "python3"
  },
  "language_info": {
   "codemirror_mode": {
    "name": "ipython",
    "version": 3
   },
   "file_extension": ".py",
   "mimetype": "text/x-python",
   "name": "python",
   "nbconvert_exporter": "python",
   "pygments_lexer": "ipython3",
   "version": "3.9.7"
  }
 },
 "nbformat": 4,
 "nbformat_minor": 5
}
