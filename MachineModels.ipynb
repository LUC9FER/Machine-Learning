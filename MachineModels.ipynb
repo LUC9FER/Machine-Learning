{
 "cells": [
  {
   "cell_type": "markdown",
   "id": "9c5d28db",
   "metadata": {},
   "source": [
    "## Machine Learning Models"
   ]
  },
  {
   "cell_type": "markdown",
   "id": "ce3fa439",
   "metadata": {},
   "source": [
    "### Importing Data Preprocessing"
   ]
  },
  {
   "cell_type": "code",
   "execution_count": 6,
   "id": "70861b16",
   "metadata": {
    "scrolled": true
   },
   "outputs": [],
   "source": [
    "import import_ipynb # Importing 'import_ipynb' Library\n",
    "\n",
    "import PreProcessing # Importing The Data Pre-Processing File\n",
    "\n",
    "from PreProcessing import * # Importing All The Code From The File"
   ]
  },
  {
   "cell_type": "markdown",
   "id": "41f03c1d",
   "metadata": {},
   "source": [
    "### KNN"
   ]
  },
  {
   "cell_type": "markdown",
   "id": "253c4acb",
   "metadata": {},
   "source": [
    "* Fitting The Model"
   ]
  },
  {
   "cell_type": "code",
   "execution_count": 7,
   "id": "1c2d40f0",
   "metadata": {},
   "outputs": [
    {
     "data": {
      "text/plain": [
       "KNeighborsClassifier(n_neighbors=50)"
      ]
     },
     "execution_count": 7,
     "metadata": {},
     "output_type": "execute_result"
    }
   ],
   "source": [
    "KNN = KNeighborsClassifier(n_neighbors = 50, metric = 'minkowski', p = 2)  # Creating An Object Of The Class\n",
    "\n",
    "KNN.fit(X, Y) # Training The Model"
   ]
  },
  {
   "cell_type": "markdown",
   "id": "cc53d9db",
   "metadata": {},
   "source": [
    "* Predicting On Test Set"
   ]
  },
  {
   "cell_type": "code",
   "execution_count": 8,
   "id": "0c8e644f",
   "metadata": {},
   "outputs": [],
   "source": [
    "KNN_Predict = KNN.predict(X_Test)"
   ]
  },
  {
   "cell_type": "markdown",
   "id": "8c8a29af",
   "metadata": {},
   "source": [
    "* Predicting On Training Set"
   ]
  },
  {
   "cell_type": "code",
   "execution_count": 9,
   "id": "6f378760",
   "metadata": {},
   "outputs": [],
   "source": [
    "KNN_Predict_Train = KNN.predict(X)"
   ]
  },
  {
   "cell_type": "markdown",
   "id": "6f53592c",
   "metadata": {},
   "source": [
    "* Calculating The Accuracy Score For Test Set"
   ]
  },
  {
   "cell_type": "code",
   "execution_count": 70,
   "id": "0f8145e7",
   "metadata": {},
   "outputs": [
    {
     "name": "stdout",
     "output_type": "stream",
     "text": [
      "Test Accuracy 44.03394907638542 %\n"
     ]
    }
   ],
   "source": [
    "print('Test Accuracy', accuracy_score(KNN_Predict, Y_Test) * 100, '%')"
   ]
  },
  {
   "cell_type": "markdown",
   "id": "b4957fc8",
   "metadata": {},
   "source": [
    "* Calculating The Accuracy Score For Training Set"
   ]
  },
  {
   "cell_type": "code",
   "execution_count": 71,
   "id": "049473df",
   "metadata": {},
   "outputs": [
    {
     "name": "stdout",
     "output_type": "stream",
     "text": [
      "Training Accuracy 81.61321308500987 %\n"
     ]
    }
   ],
   "source": [
    "print('Training Accuracy', accuracy_score(KNN_Predict_Train, Y) * 100, '%')"
   ]
  },
  {
   "cell_type": "markdown",
   "id": "c4b21f9c",
   "metadata": {},
   "source": [
    "* Calculating F1 Score "
   ]
  },
  {
   "cell_type": "code",
   "execution_count": 12,
   "id": "4c6f55fb",
   "metadata": {},
   "outputs": [
    {
     "data": {
      "text/plain": [
       "array([0.2745098 , 0.28975265, 0.30227743, 0.1       , 0.62148594,\n",
       "       0.15139442, 0.31762653])"
      ]
     },
     "execution_count": 12,
     "metadata": {},
     "output_type": "execute_result"
    }
   ],
   "source": [
    "f1_score(KNN_Predict, Y_Test, average = None)"
   ]
  },
  {
   "cell_type": "markdown",
   "id": "6a9c8fea",
   "metadata": {},
   "source": [
    "#### Applying PCA"
   ]
  },
  {
   "cell_type": "code",
   "execution_count": 13,
   "id": "f8bf80d9",
   "metadata": {},
   "outputs": [],
   "source": [
    "# Creating An Object For The Class\n",
    "\n",
    "pca = PCA(n_components = 2)\n",
    "\n",
    "X_1 = pca.fit_transform(X) # Applying PCA On Training Set\n",
    "\n",
    "X_Test_1 = pca.transform(X_Test) # Applying PCA On Test Set"
   ]
  },
  {
   "cell_type": "markdown",
   "id": "7696172a",
   "metadata": {},
   "source": [
    "* Re-Fitting The Model"
   ]
  },
  {
   "cell_type": "code",
   "execution_count": 14,
   "id": "544be5fd",
   "metadata": {},
   "outputs": [
    {
     "data": {
      "text/plain": [
       "KNeighborsClassifier(n_neighbors=50)"
      ]
     },
     "execution_count": 14,
     "metadata": {},
     "output_type": "execute_result"
    }
   ],
   "source": [
    "KNN_1 = KNeighborsClassifier(n_neighbors = 50, metric = 'minkowski', p = 2)  # Creating An Object Of The Class\n",
    "\n",
    "KNN_1.fit(X_1, Y) # Training The Model"
   ]
  },
  {
   "cell_type": "markdown",
   "id": "8a2be29f",
   "metadata": {},
   "source": [
    "* Predicting On Test Set"
   ]
  },
  {
   "cell_type": "code",
   "execution_count": 15,
   "id": "da0eb20d",
   "metadata": {},
   "outputs": [],
   "source": [
    "KNN_1_Predict = KNN_1.predict(X_Test_1)"
   ]
  },
  {
   "cell_type": "markdown",
   "id": "574cf0f1",
   "metadata": {},
   "source": [
    "* Predicting On Training Set"
   ]
  },
  {
   "cell_type": "code",
   "execution_count": 16,
   "id": "9e031c76",
   "metadata": {},
   "outputs": [],
   "source": [
    "KNN_1_Predict_Train = KNN_1.predict(X_1)"
   ]
  },
  {
   "cell_type": "markdown",
   "id": "19cfed98",
   "metadata": {},
   "source": [
    "* Accuracy For Test Set"
   ]
  },
  {
   "cell_type": "code",
   "execution_count": 72,
   "id": "c7787768",
   "metadata": {},
   "outputs": [
    {
     "name": "stdout",
     "output_type": "stream",
     "text": [
      "Test Accuracy 28.856714927608586 %\n"
     ]
    }
   ],
   "source": [
    "print('Test Accuracy', accuracy_score(KNN_1_Predict, Y_Test) * 100, '%')"
   ]
  },
  {
   "cell_type": "markdown",
   "id": "b1155bcd",
   "metadata": {},
   "source": [
    "* Accuracy For Training Set"
   ]
  },
  {
   "cell_type": "code",
   "execution_count": 73,
   "id": "a3bd3ec8",
   "metadata": {},
   "outputs": [
    {
     "name": "stdout",
     "output_type": "stream",
     "text": [
      "Training Accuracy 44.87432627141256 %\n"
     ]
    }
   ],
   "source": [
    "print('Training Accuracy' ,accuracy_score(KNN_1_Predict_Train, Y) * 100, '%')"
   ]
  },
  {
   "cell_type": "markdown",
   "id": "eb2f870d",
   "metadata": {},
   "source": [
    "### Random Forest"
   ]
  },
  {
   "cell_type": "markdown",
   "id": "c81eab2e",
   "metadata": {},
   "source": [
    "#### Imbalanced Data"
   ]
  },
  {
   "cell_type": "code",
   "execution_count": 19,
   "id": "1174b6f4",
   "metadata": {},
   "outputs": [
    {
     "data": {
      "text/plain": [
       "RandomForestClassifier(max_depth=0.4, random_state=0)"
      ]
     },
     "execution_count": 19,
     "metadata": {},
     "output_type": "execute_result"
    }
   ],
   "source": [
    "# Creating An Object Of The Class\n",
    "\n",
    "Random = RandomForestClassifier(n_estimators = 100, random_state = 0, max_depth = 0.4) \n",
    "\n",
    "Random.fit(X_Train, Y_Train) # Training The Model"
   ]
  },
  {
   "cell_type": "markdown",
   "id": "65320457",
   "metadata": {},
   "source": [
    "* Predicting On Test Set"
   ]
  },
  {
   "cell_type": "code",
   "execution_count": 20,
   "id": "ab7d9489",
   "metadata": {},
   "outputs": [],
   "source": [
    "Random_Predict = Random.predict(X_Test) # Prediction"
   ]
  },
  {
   "cell_type": "markdown",
   "id": "f1594183",
   "metadata": {},
   "source": [
    " * Calculating The Accuracy Score"
   ]
  },
  {
   "cell_type": "code",
   "execution_count": 74,
   "id": "dd36d7d4",
   "metadata": {},
   "outputs": [
    {
     "name": "stdout",
     "output_type": "stream",
     "text": [
      "Test Accuracy 67.44882675986021 %\n"
     ]
    }
   ],
   "source": [
    "print('Test Accuracy' ,accuracy_score(Random_Predict, Y_Test) * 100, '%') # Accuracy Score Of The Model"
   ]
  },
  {
   "cell_type": "markdown",
   "id": "77c40412",
   "metadata": {},
   "source": [
    "* Calculating F1 Score "
   ]
  },
  {
   "cell_type": "code",
   "execution_count": 22,
   "id": "63937c2d",
   "metadata": {},
   "outputs": [
    {
     "data": {
      "text/plain": [
       "array([0.        , 0.        , 0.        , 0.        , 0.80560525,\n",
       "       0.        , 0.        ])"
      ]
     },
     "execution_count": 22,
     "metadata": {},
     "output_type": "execute_result"
    }
   ],
   "source": [
    "f1_score(Random_Predict, Y_Test, average = None) # F1 Score Of The Model"
   ]
  },
  {
   "cell_type": "markdown",
   "id": "1330cf5c",
   "metadata": {},
   "source": [
    "#### Balanced Data"
   ]
  },
  {
   "cell_type": "code",
   "execution_count": 23,
   "id": "ec346e1c",
   "metadata": {},
   "outputs": [
    {
     "data": {
      "text/plain": [
       "RandomForestClassifier(random_state=0)"
      ]
     },
     "execution_count": 23,
     "metadata": {},
     "output_type": "execute_result"
    }
   ],
   "source": [
    "Random_Balanced = RandomForestClassifier(n_estimators = 100, random_state = 0) \n",
    "\n",
    "Random_Balanced.fit(X, Y) # Training The Model"
   ]
  },
  {
   "cell_type": "markdown",
   "id": "bd1acd05",
   "metadata": {},
   "source": [
    "* Predicting On Test Set"
   ]
  },
  {
   "cell_type": "code",
   "execution_count": 24,
   "id": "0e99182c",
   "metadata": {},
   "outputs": [],
   "source": [
    "Random_Balanced_Predict = Random_Balanced.predict(X_Test) # Prediction On Test Set"
   ]
  },
  {
   "cell_type": "markdown",
   "id": "ef3138ed",
   "metadata": {},
   "source": [
    "* Predicting On Training Set"
   ]
  },
  {
   "cell_type": "code",
   "execution_count": 25,
   "id": "dc4312f8",
   "metadata": {},
   "outputs": [],
   "source": [
    "Random_Balanced_Train_Predict = Random_Balanced.predict(X) # Prediction On Training Set"
   ]
  },
  {
   "cell_type": "markdown",
   "id": "fffd258e",
   "metadata": {},
   "source": [
    "* Calculating The Accuracy Score For Test Set"
   ]
  },
  {
   "cell_type": "code",
   "execution_count": 75,
   "id": "41cfee23",
   "metadata": {},
   "outputs": [
    {
     "name": "stdout",
     "output_type": "stream",
     "text": [
      "Test Accuracy 66.15077383924114 %\n"
     ]
    }
   ],
   "source": [
    "print('Test Accuracy' ,accuracy_score(Random_Balanced_Predict, Y_Test) * 100, '%') # Accuracy Score Of The Test Set"
   ]
  },
  {
   "cell_type": "markdown",
   "id": "c0d77ad5",
   "metadata": {},
   "source": [
    "* Calculating The Accuracy Score For Training Set"
   ]
  },
  {
   "cell_type": "code",
   "execution_count": 76,
   "id": "d5ae11b2",
   "metadata": {},
   "outputs": [
    {
     "name": "stdout",
     "output_type": "stream",
     "text": [
      "Training Accuracy 100.0 %\n"
     ]
    }
   ],
   "source": [
    "print('Training Accuracy' ,accuracy_score(Random_Balanced_Train_Predict, Y) * 100, '%') # Accuracy Score Of The Test Set"
   ]
  },
  {
   "cell_type": "markdown",
   "id": "fd9fedc8",
   "metadata": {},
   "source": [
    "* Calculating F1 Score "
   ]
  },
  {
   "cell_type": "code",
   "execution_count": 28,
   "id": "35a07ed4",
   "metadata": {},
   "outputs": [
    {
     "data": {
      "text/plain": [
       "array([0.38216561, 0.47457627, 0.39709443, 0.27272727, 0.81804044,\n",
       "       0.32727273, 0.34026465])"
      ]
     },
     "execution_count": 28,
     "metadata": {},
     "output_type": "execute_result"
    }
   ],
   "source": [
    "f1_score(Random_Balanced_Predict, Y_Test, average = None) # F1 Score Of The Model"
   ]
  },
  {
   "cell_type": "markdown",
   "id": "917b8e13",
   "metadata": {},
   "source": [
    "###### Finding Best Parameter Setting For Random Forest"
   ]
  },
  {
   "cell_type": "code",
   "execution_count": 29,
   "id": "be1fd42b",
   "metadata": {},
   "outputs": [],
   "source": [
    "# Defining Parameters\n",
    "\n",
    "Parameters = {'n_estimators': [100, 250, 650, 750, 850, 950], 'max_depth': [0.5, 0.25, 0.50, 0.60, 0.70, 1]}"
   ]
  },
  {
   "cell_type": "markdown",
   "id": "12445472",
   "metadata": {},
   "source": [
    "###### Imbalanced Dataset"
   ]
  },
  {
   "cell_type": "code",
   "execution_count": 30,
   "id": "a16af9b8",
   "metadata": {},
   "outputs": [
    {
     "data": {
      "text/plain": [
       "GridSearchCV(cv=10,\n",
       "             estimator=RandomForestClassifier(max_depth=0.4, random_state=0),\n",
       "             n_jobs=-1,\n",
       "             param_grid={'max_depth': [0.5, 0.25, 0.5, 0.6, 0.7, 1],\n",
       "                         'n_estimators': [100, 250, 650, 750, 850, 950]},\n",
       "             scoring='accuracy')"
      ]
     },
     "execution_count": 30,
     "metadata": {},
     "output_type": "execute_result"
    }
   ],
   "source": [
    "# Creating An Object For The Class\n",
    "\n",
    "Grid = GridSearchCV(estimator = Random, param_grid = Parameters, scoring = 'accuracy', cv = 10, n_jobs = -1)\n",
    "\n",
    "Grid.fit(X_Train, Y_Train) # Fitting The Model On Imbalanced Data"
   ]
  },
  {
   "cell_type": "code",
   "execution_count": 31,
   "id": "33f8a744",
   "metadata": {},
   "outputs": [
    {
     "name": "stdout",
     "output_type": "stream",
     "text": [
      "Best Accuracy Score: 66.82476081954911 %\n"
     ]
    }
   ],
   "source": [
    "print('Best Accuracy Score:', Grid.best_score_ * 100, '%') # Best Accuracy Score"
   ]
  },
  {
   "cell_type": "code",
   "execution_count": 32,
   "id": "7af20bee",
   "metadata": {},
   "outputs": [
    {
     "name": "stdout",
     "output_type": "stream",
     "text": [
      "Best Hyperparameter {'max_depth': 0.5, 'n_estimators': 100}\n"
     ]
    }
   ],
   "source": [
    "print('Best Hyperparameter' , Grid.best_params_ )# Best Parameter To Get The Accuracy Score"
   ]
  },
  {
   "cell_type": "markdown",
   "id": "2df24675",
   "metadata": {},
   "source": [
    "######  Balanced Dataset (SMOTE)"
   ]
  },
  {
   "cell_type": "code",
   "execution_count": 33,
   "id": "af43e2d3",
   "metadata": {},
   "outputs": [
    {
     "data": {
      "text/plain": [
       "GridSearchCV(cv=10, estimator=RandomForestClassifier(random_state=0), n_jobs=-1,\n",
       "             param_grid={'max_depth': [0.5, 0.25, 0.5, 0.6, 0.7, 1],\n",
       "                         'n_estimators': [100, 250, 650, 750, 850, 950]},\n",
       "             scoring='accuracy')"
      ]
     },
     "execution_count": 33,
     "metadata": {},
     "output_type": "execute_result"
    }
   ],
   "source": [
    "# Creating An Object For The Class\n",
    "\n",
    "Grid_Balanced_Smote = GridSearchCV(estimator = Random_Balanced, param_grid = Parameters, scoring = 'accuracy', cv = 10, n_jobs = -1)\n",
    "\n",
    "Grid_Balanced_Smote.fit(X, Y) # Fitting The Model On Balanced Dataset"
   ]
  },
  {
   "cell_type": "code",
   "execution_count": 34,
   "id": "d4ced318",
   "metadata": {},
   "outputs": [
    {
     "name": "stdout",
     "output_type": "stream",
     "text": [
      "Best Accuracy Score 39.11893442181707 %\n"
     ]
    }
   ],
   "source": [
    "print('Best Accuracy Score' , Grid_Balanced_Smote.best_score_ * 100, '%') # Best Accuracy Score"
   ]
  },
  {
   "cell_type": "code",
   "execution_count": 35,
   "id": "2f48e625",
   "metadata": {},
   "outputs": [
    {
     "name": "stdout",
     "output_type": "stream",
     "text": [
      "Best Hyperparameter {'max_depth': 1, 'n_estimators': 650}\n"
     ]
    }
   ],
   "source": [
    "print('Best Hyperparameter' ,Grid_Balanced_Smote.best_params_) # Best Parameter To Get The Accuracy Score"
   ]
  },
  {
   "cell_type": "markdown",
   "id": "3895bcf2",
   "metadata": {},
   "source": [
    "###### Balanced Dataset (Random Over Sampling)"
   ]
  },
  {
   "cell_type": "code",
   "execution_count": 36,
   "id": "1dd6aaa0",
   "metadata": {},
   "outputs": [
    {
     "data": {
      "text/plain": [
       "GridSearchCV(cv=10, estimator=RandomForestClassifier(random_state=0), n_jobs=-1,\n",
       "             param_grid={'max_depth': [0.5, 0.25, 0.5, 0.6, 0.7, 1],\n",
       "                         'n_estimators': [100, 250, 650, 750, 850, 950]},\n",
       "             scoring='accuracy')"
      ]
     },
     "execution_count": 36,
     "metadata": {},
     "output_type": "execute_result"
    }
   ],
   "source": [
    "# Creating An Object For The Class\n",
    "\n",
    "Grid_Balanced = GridSearchCV(estimator = Random_Balanced, param_grid = Parameters, scoring = 'accuracy', cv = 10, n_jobs = -1)\n",
    "\n",
    "Grid_Balanced.fit(X_Over, Y_Over) # Fitting The Model On Balanced Dataset"
   ]
  },
  {
   "cell_type": "code",
   "execution_count": 37,
   "id": "08bd36fe",
   "metadata": {},
   "outputs": [
    {
     "name": "stdout",
     "output_type": "stream",
     "text": [
      "Best Accuracy Score 35.8343665327139 %\n"
     ]
    }
   ],
   "source": [
    "print('Best Accuracy Score' ,Grid_Balanced.best_score_ * 100, '%') # Best Accuracy Score"
   ]
  },
  {
   "cell_type": "code",
   "execution_count": 38,
   "id": "337db45f",
   "metadata": {},
   "outputs": [
    {
     "name": "stdout",
     "output_type": "stream",
     "text": [
      "Best Hyperparameter: {'max_depth': 1, 'n_estimators': 100}\n"
     ]
    }
   ],
   "source": [
    "print('Best Hyperparameter:', Grid_Balanced.best_params_ )# Best Parameter To Get The Accuracy Score"
   ]
  },
  {
   "cell_type": "markdown",
   "id": "3b7780b7",
   "metadata": {},
   "source": [
    "### Support Vector Machine"
   ]
  },
  {
   "cell_type": "markdown",
   "id": "087b73f0",
   "metadata": {},
   "source": [
    "#### Imbalanced Data"
   ]
  },
  {
   "cell_type": "code",
   "execution_count": 39,
   "id": "1654e6c7",
   "metadata": {},
   "outputs": [
    {
     "data": {
      "text/plain": [
       "SVC()"
      ]
     },
     "execution_count": 39,
     "metadata": {},
     "output_type": "execute_result"
    }
   ],
   "source": [
    "# Creating An Pbject To The Class\n",
    "\n",
    "SVM = SVC(kernel = 'rbf', C= 1.0)\n",
    "\n",
    "SVM.fit(X_Train, Y_Train) # Training The Model"
   ]
  },
  {
   "cell_type": "markdown",
   "id": "5880da2e",
   "metadata": {},
   "source": [
    "* Prediction Test Set"
   ]
  },
  {
   "cell_type": "code",
   "execution_count": 40,
   "id": "b04f56da",
   "metadata": {},
   "outputs": [],
   "source": [
    "SVM_Test = SVM.predict(X_Test)"
   ]
  },
  {
   "cell_type": "markdown",
   "id": "8e6e55cc",
   "metadata": {},
   "source": [
    "* Prediction On Training Set"
   ]
  },
  {
   "cell_type": "code",
   "execution_count": 41,
   "id": "6fdefa60",
   "metadata": {},
   "outputs": [],
   "source": [
    "SVM_Train = SVM.predict(X_Train)"
   ]
  },
  {
   "cell_type": "markdown",
   "id": "e4ccebdb",
   "metadata": {},
   "source": [
    "* Calculating The Accuracy Score For Test Set"
   ]
  },
  {
   "cell_type": "code",
   "execution_count": 77,
   "id": "a9f54d92",
   "metadata": {},
   "outputs": [
    {
     "name": "stdout",
     "output_type": "stream",
     "text": [
      "Test Accuracy 70.99350973539691 %\n"
     ]
    }
   ],
   "source": [
    "print('Test Accuracy' ,accuracy_score(SVM_Test, Y_Test) * 100, '%')"
   ]
  },
  {
   "cell_type": "markdown",
   "id": "c93d5096",
   "metadata": {},
   "source": [
    "* Calculating The Accuracy Score For Test Set"
   ]
  },
  {
   "cell_type": "code",
   "execution_count": 78,
   "id": "1c935c7d",
   "metadata": {},
   "outputs": [
    {
     "name": "stdout",
     "output_type": "stream",
     "text": [
      "Training Accuracy 74.0763854218672 %\n"
     ]
    }
   ],
   "source": [
    "print('Training Accuracy' ,accuracy_score(SVM_Train, Y_Train) * 100, '%')"
   ]
  },
  {
   "cell_type": "markdown",
   "id": "50daa089",
   "metadata": {},
   "source": [
    "* Calculating F1 Score "
   ]
  },
  {
   "cell_type": "code",
   "execution_count": 44,
   "id": "516c05d9",
   "metadata": {},
   "outputs": [
    {
     "data": {
      "text/plain": [
       "array([0.18421053, 0.43678161, 0.33519553, 0.        , 0.84155844,\n",
       "       0.        , 0.16216216])"
      ]
     },
     "execution_count": 44,
     "metadata": {},
     "output_type": "execute_result"
    }
   ],
   "source": [
    "f1_score(SVM_Test, Y_Test, average = None)"
   ]
  },
  {
   "cell_type": "markdown",
   "id": "1974a907",
   "metadata": {},
   "source": [
    "#### Balanced Data (SMOTE)"
   ]
  },
  {
   "cell_type": "code",
   "execution_count": 45,
   "id": "34649261",
   "metadata": {},
   "outputs": [
    {
     "data": {
      "text/plain": [
       "SVC()"
      ]
     },
     "execution_count": 45,
     "metadata": {},
     "output_type": "execute_result"
    }
   ],
   "source": [
    "# Creating An Object To The Class\n",
    "\n",
    "SVM_Balanced = SVC(kernel = 'rbf', C= 1.0)\n",
    "\n",
    "SVM_Balanced.fit(X, Y) # Training The Model"
   ]
  },
  {
   "cell_type": "markdown",
   "id": "7a1283b5",
   "metadata": {},
   "source": [
    "* Prediction Test Set"
   ]
  },
  {
   "cell_type": "code",
   "execution_count": 46,
   "id": "71cac289",
   "metadata": {},
   "outputs": [],
   "source": [
    "SVM_Balanced_Test = SVM_Balanced.predict(X_Test)"
   ]
  },
  {
   "cell_type": "markdown",
   "id": "61342156",
   "metadata": {},
   "source": [
    "* Prediction Training Set"
   ]
  },
  {
   "cell_type": "code",
   "execution_count": 47,
   "id": "08a9c4d4",
   "metadata": {},
   "outputs": [],
   "source": [
    "SVM_Balanced_Train = SVM_Balanced.predict(X)"
   ]
  },
  {
   "cell_type": "markdown",
   "id": "9e02981c",
   "metadata": {},
   "source": [
    "* Calculating The Accuracy Score For Test Set"
   ]
  },
  {
   "cell_type": "code",
   "execution_count": 79,
   "id": "e4747ada",
   "metadata": {},
   "outputs": [
    {
     "name": "stdout",
     "output_type": "stream",
     "text": [
      "Test Accuracy 62.50624063904143 %\n"
     ]
    }
   ],
   "source": [
    "print('Test Accuracy' ,accuracy_score(SVM_Balanced_Test, Y_Test) * 100 ,'%')"
   ]
  },
  {
   "cell_type": "markdown",
   "id": "58fb5de7",
   "metadata": {},
   "source": [
    "* Calculating The Accuracy Score For Train Set"
   ]
  },
  {
   "cell_type": "code",
   "execution_count": 80,
   "id": "c9294b73",
   "metadata": {},
   "outputs": [
    {
     "name": "stdout",
     "output_type": "stream",
     "text": [
      "Training Accuracy 90.51443513527936 %\n"
     ]
    }
   ],
   "source": [
    "print('Training Accuracy' ,accuracy_score(SVM_Balanced_Train, Y) * 100, '%')"
   ]
  },
  {
   "cell_type": "markdown",
   "id": "76dfa87a",
   "metadata": {},
   "source": [
    "* Calculating F1 Score"
   ]
  },
  {
   "cell_type": "code",
   "execution_count": 50,
   "id": "cbc7f801",
   "metadata": {},
   "outputs": [
    {
     "data": {
      "text/plain": [
       "array([0.36363636, 0.4921875 , 0.37422037, 0.29032258, 0.78235045,\n",
       "       0.48484848, 0.39418417])"
      ]
     },
     "execution_count": 50,
     "metadata": {},
     "output_type": "execute_result"
    }
   ],
   "source": [
    "f1_score(SVM_Balanced_Test, Y_Test, average = None)"
   ]
  },
  {
   "cell_type": "markdown",
   "id": "2112bf08",
   "metadata": {},
   "source": [
    "#### Tuning Hyperparameter (Adding 'gama' & Tuning 'C' With Different Values)"
   ]
  },
  {
   "cell_type": "markdown",
   "id": "59081144",
   "metadata": {},
   "source": [
    "###### C= 0.8, Gamma = 0.9"
   ]
  },
  {
   "cell_type": "code",
   "execution_count": 51,
   "id": "9fc7352e",
   "metadata": {},
   "outputs": [
    {
     "data": {
      "text/plain": [
       "SVC(C=0.8, gamma=0.9)"
      ]
     },
     "execution_count": 51,
     "metadata": {},
     "output_type": "execute_result"
    }
   ],
   "source": [
    "# Creating An Object To The Class\n",
    "\n",
    "SVM_Balanced_1 = SVC(kernel = 'rbf', C = 0.8, gamma = 0.9)\n",
    "\n",
    "SVM_Balanced_1.fit(X, Y) # Training The Model"
   ]
  },
  {
   "cell_type": "markdown",
   "id": "13f917fa",
   "metadata": {},
   "source": [
    "* Predicting On Test Set"
   ]
  },
  {
   "cell_type": "code",
   "execution_count": 52,
   "id": "678a172b",
   "metadata": {},
   "outputs": [],
   "source": [
    "SVM_Balanced_1_Test = SVM_Balanced_1.predict(X_Test) # Test Set "
   ]
  },
  {
   "cell_type": "markdown",
   "id": "24a685ed",
   "metadata": {},
   "source": [
    "* Predicting On Train Set"
   ]
  },
  {
   "cell_type": "code",
   "execution_count": 53,
   "id": "392d934b",
   "metadata": {},
   "outputs": [],
   "source": [
    "SVM_Balanced_1_Train = SVM_Balanced_1.predict(X) # Training Set"
   ]
  },
  {
   "cell_type": "markdown",
   "id": "5e90c420",
   "metadata": {},
   "source": [
    "* Accuracy For Test Set"
   ]
  },
  {
   "cell_type": "code",
   "execution_count": 81,
   "id": "5fd03176",
   "metadata": {},
   "outputs": [
    {
     "name": "stdout",
     "output_type": "stream",
     "text": [
      "Test Accuracy 67.44882675986021 %\n"
     ]
    }
   ],
   "source": [
    "print('Test Accuracy' ,accuracy_score(SVM_Balanced_1_Test, Y_Test) * 100 ,'%') # Accuracy For Test"
   ]
  },
  {
   "cell_type": "markdown",
   "id": "09737fb6",
   "metadata": {},
   "source": [
    "* Accuracy For Train Set"
   ]
  },
  {
   "cell_type": "code",
   "execution_count": 82,
   "id": "93af8634",
   "metadata": {},
   "outputs": [
    {
     "name": "stdout",
     "output_type": "stream",
     "text": [
      "Training Accuracy 100.0 %\n"
     ]
    }
   ],
   "source": [
    "print('Training Accuracy' ,accuracy_score(SVM_Balanced_1_Train, Y) * 100 ,'%') # Accuracy For Train"
   ]
  },
  {
   "cell_type": "markdown",
   "id": "c6b40ab9",
   "metadata": {},
   "source": [
    "###### C= 0.5, Gamma = 1.0"
   ]
  },
  {
   "cell_type": "code",
   "execution_count": 56,
   "id": "c45e0256",
   "metadata": {},
   "outputs": [
    {
     "data": {
      "text/plain": [
       "SVC(C=0.5, gamma=1.0)"
      ]
     },
     "execution_count": 56,
     "metadata": {},
     "output_type": "execute_result"
    }
   ],
   "source": [
    "# Creating An Object To The Class\n",
    "\n",
    "SVM_Balanced_2 = SVC(kernel = 'rbf', C = 0.5, gamma = 1.0)\n",
    "\n",
    "SVM_Balanced_2.fit(X, Y) # Training The Model"
   ]
  },
  {
   "cell_type": "markdown",
   "id": "c014deb0",
   "metadata": {},
   "source": [
    "* Predicting On Test Set "
   ]
  },
  {
   "cell_type": "code",
   "execution_count": 57,
   "id": "1a2ce99c",
   "metadata": {},
   "outputs": [],
   "source": [
    "SVM_Balanced_2_Test = SVM_Balanced_2.predict(X_Test) # Test Set "
   ]
  },
  {
   "cell_type": "markdown",
   "id": "05cd15be",
   "metadata": {},
   "source": [
    "* Predicting On Train Set"
   ]
  },
  {
   "cell_type": "code",
   "execution_count": 58,
   "id": "90fc4643",
   "metadata": {},
   "outputs": [],
   "source": [
    "SVM_Balanced_2_Train = SVM_Balanced_2.predict(X) # Training Set"
   ]
  },
  {
   "cell_type": "markdown",
   "id": "f6c1c540",
   "metadata": {},
   "source": [
    "* Accuracy For Test"
   ]
  },
  {
   "cell_type": "code",
   "execution_count": 83,
   "id": "16bb0e7c",
   "metadata": {},
   "outputs": [
    {
     "name": "stdout",
     "output_type": "stream",
     "text": [
      "Test Accuracy 11.28307538691962 %\n"
     ]
    }
   ],
   "source": [
    "print('Test Accuracy' ,accuracy_score(SVM_Balanced_2_Test, Y_Test) * 100 ,'%') # Accuracy For Test"
   ]
  },
  {
   "cell_type": "markdown",
   "id": "af6a1eae",
   "metadata": {},
   "source": [
    "* Accuracy For Train"
   ]
  },
  {
   "cell_type": "code",
   "execution_count": 84,
   "id": "14dbadff",
   "metadata": {},
   "outputs": [
    {
     "name": "stdout",
     "output_type": "stream",
     "text": [
      "Training Accuracy 100.0 %\n"
     ]
    }
   ],
   "source": [
    "print('Training Accuracy' ,accuracy_score(SVM_Balanced_2_Train, Y) * 100 ,'%') # Accuracy For Train"
   ]
  },
  {
   "cell_type": "markdown",
   "id": "da0fa53d",
   "metadata": {},
   "source": [
    "###### C= 0.2, Gamma = 0.1"
   ]
  },
  {
   "cell_type": "code",
   "execution_count": 67,
   "id": "26c52a57",
   "metadata": {},
   "outputs": [
    {
     "data": {
      "text/plain": [
       "SVC(C=0.2, gamma=0.1)"
      ]
     },
     "execution_count": 67,
     "metadata": {},
     "output_type": "execute_result"
    }
   ],
   "source": [
    "# Creating An Object To The Class\n",
    "\n",
    "SVM_Balanced_3 = SVC(kernel = 'rbf', C = 0.2, gamma = 0.1)\n",
    "\n",
    "SVM_Balanced_3.fit(X, Y) # Training The Model"
   ]
  },
  {
   "cell_type": "markdown",
   "id": "e1277498",
   "metadata": {},
   "source": [
    "* Predicting On Test"
   ]
  },
  {
   "cell_type": "code",
   "execution_count": 68,
   "id": "cbff7883",
   "metadata": {},
   "outputs": [],
   "source": [
    "SVM_Balanced_3_Test = SVM_Balanced_3.predict(X_Test) # Test Set "
   ]
  },
  {
   "cell_type": "markdown",
   "id": "d4a0cd18",
   "metadata": {},
   "source": [
    "* Predicting On Train"
   ]
  },
  {
   "cell_type": "code",
   "execution_count": 69,
   "id": "673b8a05",
   "metadata": {},
   "outputs": [],
   "source": [
    "SVM_Balanced_3_Train = SVM_Balanced_3.predict(X) # Training Set"
   ]
  },
  {
   "cell_type": "markdown",
   "id": "86656cf9",
   "metadata": {},
   "source": [
    "* Accuracy For Test"
   ]
  },
  {
   "cell_type": "code",
   "execution_count": 85,
   "id": "b879eb7d",
   "metadata": {},
   "outputs": [
    {
     "name": "stdout",
     "output_type": "stream",
     "text": [
      "Test Accuracy 67.44882675986021 %\n"
     ]
    }
   ],
   "source": [
    "print('Test Accuracy' ,accuracy_score(SVM_Balanced_3_Test, Y_Test) * 100 ,'%') # Accuracy For Test"
   ]
  },
  {
   "cell_type": "markdown",
   "id": "0b503492",
   "metadata": {},
   "source": [
    "* Accuracy For Train"
   ]
  },
  {
   "cell_type": "code",
   "execution_count": 86,
   "id": "bd713d7c",
   "metadata": {},
   "outputs": [
    {
     "name": "stdout",
     "output_type": "stream",
     "text": [
      "Training Accuracy 87.87288542611665 %\n"
     ]
    }
   ],
   "source": [
    "print('Training Accuracy' ,accuracy_score(SVM_Balanced_3_Train, Y) * 100 ,'%') # Accuracy For Train"
   ]
  },
  {
   "cell_type": "markdown",
   "id": "994a81a9",
   "metadata": {},
   "source": [
    "###### C= 0.3, Gamma = 0.5"
   ]
  },
  {
   "cell_type": "code",
   "execution_count": 87,
   "id": "184d7810",
   "metadata": {},
   "outputs": [
    {
     "data": {
      "text/plain": [
       "SVC(C=0.3, gamma=0.5)"
      ]
     },
     "execution_count": 87,
     "metadata": {},
     "output_type": "execute_result"
    }
   ],
   "source": [
    "# Creating An Object To The Class\n",
    "\n",
    "SVM_Balanced_4 = SVC(kernel = 'rbf', C = 0.3, gamma = 0.5)\n",
    "\n",
    "SVM_Balanced_4.fit(X, Y) # Training The Model"
   ]
  },
  {
   "cell_type": "markdown",
   "id": "7eac4095",
   "metadata": {},
   "source": [
    "* Predicting On Test"
   ]
  },
  {
   "cell_type": "code",
   "execution_count": 92,
   "id": "78072084",
   "metadata": {},
   "outputs": [],
   "source": [
    "SVM_Balanced_4_Test = SVM_Balanced_4.predict(X_Test) # Test Set "
   ]
  },
  {
   "cell_type": "markdown",
   "id": "058fbafb",
   "metadata": {},
   "source": [
    "* Predicting On Train"
   ]
  },
  {
   "cell_type": "code",
   "execution_count": 89,
   "id": "c344a0b1",
   "metadata": {},
   "outputs": [],
   "source": [
    "SVM_Balanced_4_Train = SVM_Balanced_4.predict(X) # Training Set"
   ]
  },
  {
   "cell_type": "markdown",
   "id": "fa2aa435",
   "metadata": {},
   "source": [
    "* Accuracy For Test "
   ]
  },
  {
   "cell_type": "code",
   "execution_count": 93,
   "id": "07ab1fa5",
   "metadata": {},
   "outputs": [
    {
     "name": "stdout",
     "output_type": "stream",
     "text": [
      "Test Accuracy 11.333000499251124 %\n"
     ]
    }
   ],
   "source": [
    "print('Test Accuracy' ,accuracy_score(SVM_Balanced_4_Test, Y_Test) * 100 ,'%') # Accuracy For Test"
   ]
  },
  {
   "cell_type": "markdown",
   "id": "9565ed4b",
   "metadata": {},
   "source": [
    "* Accuracy For Train"
   ]
  },
  {
   "cell_type": "code",
   "execution_count": 91,
   "id": "9aa80adb",
   "metadata": {},
   "outputs": [
    {
     "name": "stdout",
     "output_type": "stream",
     "text": [
      "Training Accuracy 87.14445808207482 %\n"
     ]
    }
   ],
   "source": [
    "print('Training Accuracy' ,accuracy_score(SVM_Balanced_4_Train, Y) * 100 ,'%') # Accuracy For Train"
   ]
  },
  {
   "cell_type": "markdown",
   "id": "c9e0af38",
   "metadata": {},
   "source": [
    "### xxxxxxxxxxxxxxxxxxxxxxxxxxxxxxxxxxxxxxxxxxxxxxxxxxxxxxxxxxxxxxxxxxxxxxxxxxxxxxxxxxxxxxxxxxxxxx"
   ]
  }
 ],
 "metadata": {
  "kernelspec": {
   "display_name": "Python 3 (ipykernel)",
   "language": "python",
   "name": "python3"
  },
  "language_info": {
   "codemirror_mode": {
    "name": "ipython",
    "version": 3
   },
   "file_extension": ".py",
   "mimetype": "text/x-python",
   "name": "python",
   "nbconvert_exporter": "python",
   "pygments_lexer": "ipython3",
   "version": "3.9.7"
  }
 },
 "nbformat": 4,
 "nbformat_minor": 5
}
